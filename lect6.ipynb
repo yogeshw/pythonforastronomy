{
 "cells": [
  {
   "cell_type": "markdown",
   "metadata": {
    "slideshow": {
     "slide_type": "slide"
    }
   },
   "source": [
    "Astronomical data analysis using Python\n",
    "===\n",
    "\n",
    "Lecture 6\n",
    "-------"
   ]
  },
  {
   "cell_type": "markdown",
   "metadata": {
    "slideshow": {
     "slide_type": "slide"
    }
   },
   "source": [
    "# List Comprehension "
   ]
  },
  {
   "cell_type": "code",
   "execution_count": 61,
   "metadata": {
    "slideshow": {
     "slide_type": "-"
    }
   },
   "outputs": [
    {
     "name": "stdout",
     "output_type": "stream",
     "text": [
      "['Pune', 'Mumbai', 'Gauhati']\n"
     ]
    }
   ],
   "source": [
    "cities = [\"Pune\", \"Mumbai\", \"Delhi\", \"Gauhati\", \"Chennai\"]\n",
    "newlist = []\n",
    "\n",
    "for x in cities:\n",
    "  if \"u\" in x:\n",
    "    newlist.append(x)\n",
    "\n",
    "print(newlist)"
   ]
  },
  {
   "cell_type": "code",
   "execution_count": 55,
   "metadata": {
    "slideshow": {
     "slide_type": "-"
    }
   },
   "outputs": [
    {
     "name": "stdout",
     "output_type": "stream",
     "text": [
      "['Pune', 'Mumbai', 'Gauhati']\n"
     ]
    }
   ],
   "source": [
    "cities = [\"Pune\", \"Mumbai\", \"Delhi\", \"Gauhati\", \"Chennai\"]\n",
    "\n",
    "newlist = [x for x in cities if \"u\" in x]\n",
    "\n",
    "print(newlist)"
   ]
  },
  {
   "cell_type": "markdown",
   "metadata": {
    "slideshow": {
     "slide_type": "slide"
    }
   },
   "source": [
    "# List comprehension syntax\n",
    "\n",
    "`newlist = [expression for item in iterable if condition == True]`\n",
    "\n",
    "The old list remains unchanged in the list comprehension. The iterable can be any iterable including a list. The if condition is optional."
   ]
  },
  {
   "cell_type": "code",
   "execution_count": 60,
   "metadata": {},
   "outputs": [
    {
     "name": "stdout",
     "output_type": "stream",
     "text": [
      "[4, 5, 6]\n"
     ]
    }
   ],
   "source": [
    "newlist = [x for x in range(10) if (x < 7) & (x >3)]\n",
    "print (newlist)"
   ]
  },
  {
   "cell_type": "markdown",
   "metadata": {
    "slideshow": {
     "slide_type": "slide"
    }
   },
   "source": [
    "# Nested lists"
   ]
  },
  {
   "cell_type": "code",
   "execution_count": 1,
   "metadata": {
    "slideshow": {
     "slide_type": "-"
    }
   },
   "outputs": [
    {
     "name": "stdout",
     "output_type": "stream",
     "text": [
      "[(0, 0), (0, 1), (0, 2), (1, 0), (1, 1), (1, 2), (2, 0), (2, 1), (2, 2)]\n"
     ]
    }
   ],
   "source": [
    "k = [ (i,j) for i in range(3) for j in range(3) ]\n",
    "print (k)"
   ]
  },
  {
   "cell_type": "markdown",
   "metadata": {
    "slideshow": {
     "slide_type": "slide"
    }
   },
   "source": [
    "# List Comprehensions - Dos and Donts\n",
    "\n",
    "For simple for-loops like we saw earlier, you SHOULD use list comprehensions.\n",
    "In fact, list comprehensions run faster than traditional loops.\n",
    "\n",
    "But,\n",
    "\n",
    "List comprehensions, especially nested ones, can obfuscate code.\n",
    "In such a case, it's better to use elaborate loops."
   ]
  },
  {
   "cell_type": "markdown",
   "metadata": {
    "slideshow": {
     "slide_type": "slide"
    }
   },
   "source": [
    "# Installing third party modules\n",
    "\n",
    "See the instructions at:\n",
    "\n",
    "https://docs.python.org/3/installing/index.html\n",
    "\n",
    "Please install `numpy, scipy, matplotlib, astropy, astroquery` modules on your computer.\n",
    "Except for `astroquery` all modules are also available in Google Colab. Even astroquery can be installed on Google Colab using `!pip install astroquery`\n",
    "\n"
   ]
  },
  {
   "cell_type": "markdown",
   "metadata": {
    "slideshow": {
     "slide_type": "slide"
    }
   },
   "source": [
    "# Python data processing using lists is very slow\n",
    "\n",
    "Compared to compiled languages, for loops in Python run extremely slowly. The alternative is to define a more restrictive data structure than a list - **a numpy array**. Unlike lists, a numpy array contains data of only one type.\n",
    "\n",
    "In exchange for this restriction, numpy arrays provide for unprecendented speed and convenience and make numerical computation practically possible in Python. The high speed of numpy is due to the fact that its underlying, highly optimised code is written in C.\n",
    "\n",
    "**All scientific and technical computing in Python today makes use of `numpy` in one way or another.**"
   ]
  },
  {
   "cell_type": "markdown",
   "metadata": {
    "slideshow": {
     "slide_type": "slide"
    }
   },
   "source": [
    "Adding two arrays - the slow Python way\n",
    "==="
   ]
  },
  {
   "cell_type": "code",
   "execution_count": 2,
   "metadata": {
    "slideshow": {
     "slide_type": "-"
    }
   },
   "outputs": [
    {
     "name": "stdout",
     "output_type": "stream",
     "text": [
      "[1, 2, 4, 4, 8, 6]\n"
     ]
    }
   ],
   "source": [
    "l1=[1,2,4]; l2=[4,8,6]\n",
    "print (l1+l2)\n"
   ]
  },
  {
   "cell_type": "code",
   "execution_count": 3,
   "metadata": {
    "slideshow": {
     "slide_type": "-"
    }
   },
   "outputs": [
    {
     "name": "stdout",
     "output_type": "stream",
     "text": [
      "[5, 10, 10]\n"
     ]
    }
   ],
   "source": [
    "l3 = [0]*3\n",
    "for i in range(3):\n",
    "    l3[i] = l1[i] +l2[i]\n",
    "    \n",
    "print (l3)"
   ]
  },
  {
   "cell_type": "markdown",
   "metadata": {
    "slideshow": {
     "slide_type": "slide"
    }
   },
   "source": [
    "What we ideally want\n",
    "==="
   ]
  },
  {
   "cell_type": "markdown",
   "metadata": {
    "slideshow": {
     "slide_type": "-"
    }
   },
   "source": [
    "We want `print (l1+l2)` to give us `[5,10,10]`\n",
    "\n",
    "Such behaviour is common in Fortran 90, Matlab, IDL"
   ]
  },
  {
   "cell_type": "markdown",
   "metadata": {
    "slideshow": {
     "slide_type": "slide"
    }
   },
   "source": [
    "Creating an n-dimensional array - numpy.ndarray\n",
    "==="
   ]
  },
  {
   "cell_type": "code",
   "execution_count": 2,
   "metadata": {
    "slideshow": {
     "slide_type": "-"
    }
   },
   "outputs": [
    {
     "name": "stdout",
     "output_type": "stream",
     "text": [
      "1.19.5\n",
      "<class 'numpy.ndarray'>\n",
      "<class 'numpy.ndarray'>\n"
     ]
    }
   ],
   "source": [
    "import numpy as np\n",
    "print (np.version.version)\n",
    "\n",
    "a = np.array([1,2,3]) # Argument to np.array can be a list\n",
    "b = np.array((1,2,3)) # or a tuple\n",
    "print (type(a))\n",
    "print (type(b))\n"
   ]
  },
  {
   "cell_type": "markdown",
   "metadata": {
    "slideshow": {
     "slide_type": "slide"
    }
   },
   "source": [
    "Adding Arrays with numpy\n",
    "==="
   ]
  },
  {
   "cell_type": "code",
   "execution_count": 3,
   "metadata": {
    "slideshow": {
     "slide_type": "-"
    }
   },
   "outputs": [
    {
     "name": "stdout",
     "output_type": "stream",
     "text": [
      "[1, 2, 3, 4, 5, 6]\n",
      "[5 7 9]\n"
     ]
    }
   ],
   "source": [
    "l1 = [1,2,3]\n",
    "l2=[4,5,6]\n",
    "a1 = np.array(l1)\n",
    "a2 = np.array(l2)\n",
    "print (l1+l2)\n",
    "print (a1+a2)"
   ]
  },
  {
   "cell_type": "markdown",
   "metadata": {
    "slideshow": {
     "slide_type": "slide"
    }
   },
   "source": [
    "Arithmetic operations in numpy\n",
    "==="
   ]
  },
  {
   "cell_type": "code",
   "execution_count": 4,
   "metadata": {
    "slideshow": {
     "slide_type": "-"
    }
   },
   "outputs": [
    {
     "name": "stdout",
     "output_type": "stream",
     "text": [
      "[5 7 9]\n",
      "[-3 -3 -3]\n",
      "[ 4 10 18]\n",
      "[0.25 0.4  0.5 ]\n",
      "[0 1 0]\n",
      "[1 4 9]\n"
     ]
    }
   ],
   "source": [
    "print (a1+a2) # addition\n",
    "print (a1-a2) # substraction\n",
    "print (a1*a2) # multiplication\n",
    "print (a1/a2) # division\n",
    "print (a2%a1) # modulo\n",
    "print (a1**2) # elementwise squared"
   ]
  },
  {
   "cell_type": "markdown",
   "metadata": {
    "slideshow": {
     "slide_type": "slide"
    }
   },
   "source": [
    "Numpy ufuncs\n",
    "==="
   ]
  },
  {
   "cell_type": "markdown",
   "metadata": {},
   "source": [
    "add (+) log  greater (>) subtract (-) log10 greater_equal ($>=$)\n",
    "\n",
    "multiply (*) cos  less (<) divide (/) arcos less_equal (<=)\n",
    "\n",
    "remainder (%) sin logical_and absolute abs arcsin logical_or\n",
    "\n",
    "floor tan logical_xor ceil  arctan  bitwise_and (&)\n",
    "\n",
    "fmod cosh bitwise_or (|) conjugate sinh  bitwise_xor (^)\n",
    "\n",
    "minimum tanh bitwise_not (~) maximum  sqrt rshift (>>)\n",
    "\n",
    "power (**) equal (==) lshift (<<) exp not_equal (!=)\n"
   ]
  },
  {
   "cell_type": "markdown",
   "metadata": {
    "slideshow": {
     "slide_type": "slide"
    }
   },
   "source": [
    "Why is an array not a list?\n",
    "==="
   ]
  },
  {
   "cell_type": "markdown",
   "metadata": {
    "slideshow": {
     "slide_type": "-"
    }
   },
   "source": [
    "A numpy array is a table of elements (usually numbers),\n",
    "all of the __same__ type."
   ]
  },
  {
   "cell_type": "markdown",
   "metadata": {
    "slideshow": {
     "slide_type": "slide"
    }
   },
   "source": [
    "Implicit and explicit datatype declaration\n",
    "==="
   ]
  },
  {
   "cell_type": "code",
   "execution_count": 5,
   "metadata": {
    "slideshow": {
     "slide_type": "-"
    }
   },
   "outputs": [
    {
     "name": "stdout",
     "output_type": "stream",
     "text": [
      "int64\n",
      "float64\n",
      "complex128\n"
     ]
    }
   ],
   "source": [
    "import numpy as np\n",
    "ai = np.array([1, 2, 3])\n",
    "af = np.array([1, 2, 3.])\n",
    "ac = np.array([1j, 2, 3.])\n",
    "print (ai.dtype)\n",
    "print (af.dtype)\n",
    "print (ac.dtype)\n",
    "af = np.array([1,2,3], float)\n",
    "ac = np.array([1,2,3], complex)\n",
    "afn = np.array([1,2], np.float) # numpy float type\n"
   ]
  },
  {
   "cell_type": "markdown",
   "metadata": {
    "slideshow": {
     "slide_type": "slide"
    }
   },
   "source": [
    "Numpy float datatypes\n",
    "==="
   ]
  },
  {
   "cell_type": "markdown",
   "metadata": {
    "slideshow": {
     "slide_type": "-"
    }
   },
   "source": [
    "* `np.float` (== Python float type)\n",
    "* `np.float32` (single precision)\n",
    "* `np.float64` (double precision)\n",
    "* `np.double` (synonym, double prec.)\n",
    "* `np.longdouble` (very platform dependent !!! np.float96 or np.float128)"
   ]
  },
  {
   "cell_type": "markdown",
   "metadata": {
    "slideshow": {
     "slide_type": "slide"
    }
   },
   "source": [
    "Other numpy datatypes\n",
    "==="
   ]
  },
  {
   "cell_type": "markdown",
   "metadata": {
    "slideshow": {
     "slide_type": "-"
    }
   },
   "source": [
    "* Integer datatypes `np.int8 ...int16 ...int32 ...int64`\n",
    "* Unsigned (!) integer datatypes `np.uint8 ...uint16 ...uint32 ...uint64`\n",
    "* Complex datatypes `np.complex64 ...complex128...complex256`\n",
    "* Boolean `np.bool`\n"
   ]
  },
  {
   "cell_type": "markdown",
   "metadata": {
    "slideshow": {
     "slide_type": "slide"
    }
   },
   "source": [
    "Defining your own datatypes\n",
    "===\n"
   ]
  },
  {
   "cell_type": "code",
   "execution_count": 4,
   "metadata": {
    "slideshow": {
     "slide_type": "-"
    }
   },
   "outputs": [
    {
     "name": "stdout",
     "output_type": "stream",
     "text": [
      "[  0 100]\n",
      "[ True False]\n",
      "100\n",
      "True\n"
     ]
    }
   ],
   "source": [
    "dt= np.dtype([('value',np.int),('status',np.bool)])\n",
    "a = np.array([(0,True),(100,False)],dtype=dt)\n",
    "print (a['value'])\n",
    "print (a['status'])\n",
    "print (a['value'][1])\n",
    "print (a[0]['status'])\n"
   ]
  },
  {
   "cell_type": "markdown",
   "metadata": {
    "slideshow": {
     "slide_type": "-"
    }
   },
   "source": [
    "Structured arrays are sometimes quite useful for reading binary data."
   ]
  },
  {
   "cell_type": "markdown",
   "metadata": {
    "slideshow": {
     "slide_type": "slide"
    }
   },
   "source": [
    "Convenience functions to create arrays\n",
    "==="
   ]
  },
  {
   "cell_type": "code",
   "execution_count": 9,
   "metadata": {
    "slideshow": {
     "slide_type": "-"
    }
   },
   "outputs": [
    {
     "name": "stdout",
     "output_type": "stream",
     "text": [
      "[0. 0. 0.]\n",
      "[1. 1. 1. 1. 1. 1. 1. 1. 1. 1.]\n",
      "[1. 1. 1. 1. 1. 1. 1. 1. 1. 1.]\n",
      "[0. 0. 0. 0. 0. 0. 0. 0. 0. 0.]\n",
      "[1. 1. 1. 1. 1. 1. 1. 1. 1. 1.]\n"
     ]
    }
   ],
   "source": [
    "z = np.zeros(3)\n",
    "print (z)\n",
    "o = np.ones(10)\n",
    "print (o)\n",
    "e = np.empty(10) # very fast, use only if array elements are guaranteed to be initialised\n",
    "print (e) # uninitialised values, could be anything!(y)\n",
    "print (np.zeros_like(e))\n",
    "print (np.ones_like(e))\n"
   ]
  },
  {
   "cell_type": "markdown",
   "metadata": {
    "slideshow": {
     "slide_type": "slide"
    }
   },
   "source": [
    "Multidimensional Arrays\n",
    "==="
   ]
  },
  {
   "cell_type": "code",
   "execution_count": 12,
   "metadata": {
    "slideshow": {
     "slide_type": "-"
    }
   },
   "outputs": [
    {
     "name": "stdout",
     "output_type": "stream",
     "text": [
      "[[1, 2, 3], [4, 5, 6]]\n",
      "[[1 2 3]\n",
      " [4 5 6]]\n"
     ]
    }
   ],
   "source": [
    "l2 = [[1,2,3],[4,5,6]]\n",
    "a2 = np.array(l2)\n",
    "print (l2)\n",
    "print (a2)\n",
    " "
   ]
  },
  {
   "cell_type": "markdown",
   "metadata": {
    "slideshow": {
     "slide_type": "slide"
    }
   },
   "source": [
    "Swapping of  axes\n",
    "==="
   ]
  },
  {
   "cell_type": "markdown",
   "metadata": {
    "slideshow": {
     "slide_type": "-"
    }
   },
   "source": [
    "Note that, like C (and unlike FORTRAN), Python is 0-indexed and the\n",
    "indices have the slowest axis first and fast axis last, i.e. for a 2-D\n",
    "image, the fast axis (X-axis) which corresponds to the FITS NAXIS1\n",
    "keyword, is the second index.\n",
    "\n",
    "How best to handle this?\n"
   ]
  },
  {
   "cell_type": "markdown",
   "metadata": {
    "slideshow": {
     "slide_type": "slide"
    }
   },
   "source": [
    "Accessing Arrays\n",
    "==="
   ]
  },
  {
   "cell_type": "code",
   "execution_count": 12,
   "metadata": {
    "slideshow": {
     "slide_type": "-"
    }
   },
   "outputs": [
    {
     "name": "stdout",
     "output_type": "stream",
     "text": [
      "2\n",
      "2\n",
      "2\n",
      "[2 3]\n",
      "[1 4]\n"
     ]
    }
   ],
   "source": [
    "print l2[0][1]\n",
    "print a2[0][1]\n",
    "print a2[0,1] # works only with\n",
    "print a2[0,1:] # arrays !!!\n",
    "print a2[:,0] #\n"
   ]
  },
  {
   "cell_type": "markdown",
   "metadata": {
    "slideshow": {
     "slide_type": "slide"
    }
   },
   "source": [
    "Determine size and shape\n",
    "==="
   ]
  },
  {
   "cell_type": "code",
   "execution_count": 13,
   "metadata": {
    "slideshow": {
     "slide_type": "-"
    }
   },
   "outputs": [
    {
     "name": "stdout",
     "output_type": "stream",
     "text": [
      "2 3\n",
      "2 3\n",
      "(2, 3)\n"
     ]
    }
   ],
   "source": [
    "# determine the dimensions\n",
    "# remember: l2=[[1,2,3],[4,5,6]]\n",
    "# how many rows, how many columns ?\n",
    "\n",
    "print len(l2), len(l2[0])\n",
    "\n",
    "print len(a2), len(a2[0])\n",
    "\n",
    "print a2.shape # shape attribute\n"
   ]
  },
  {
   "cell_type": "markdown",
   "metadata": {
    "slideshow": {
     "slide_type": "slide"
    }
   },
   "source": [
    "Array attributes\n",
    "==="
   ]
  },
  {
   "cell_type": "markdown",
   "metadata": {
    "slideshow": {
     "slide_type": "-"
    }
   },
   "source": [
    "* `array.ndim`: number of dimensions\n",
    "* `array.shape`: the dimensions\n",
    "* `array.size`: total number of elements\n",
    "* `array.dtype`: type of the data\n"
   ]
  },
  {
   "cell_type": "markdown",
   "metadata": {
    "slideshow": {
     "slide_type": "slide"
    }
   },
   "source": [
    "Initialising multidimensional arrays\n",
    "==="
   ]
  },
  {
   "cell_type": "code",
   "execution_count": 16,
   "metadata": {
    "slideshow": {
     "slide_type": "-"
    }
   },
   "outputs": [],
   "source": [
    "# np.zeros, np.ones, et al.\n",
    "# can be used to create multidim\n",
    "# arrays, too !\n",
    "\n",
    "o = np.ones( (3,10) )\n",
    "\n",
    "e = np.empty( (4,2,19), float)\n"
   ]
  },
  {
   "cell_type": "markdown",
   "metadata": {
    "slideshow": {
     "slide_type": "slide"
    }
   },
   "source": [
    "Convenience functions\n",
    "==="
   ]
  },
  {
   "cell_type": "code",
   "execution_count": 13,
   "metadata": {
    "slideshow": {
     "slide_type": "-"
    }
   },
   "outputs": [],
   "source": [
    "b = np.linspace(-2.5,1.5,17)\n",
    "\n",
    "# 17 equally spaced numbers from -2.5 to 1.5\n",
    "# including the boundary values !\n",
    "\n",
    "c = np.arange(-2.5,1.51,0.25) \n",
    "# Unreliable because upperbound excluded, rounding errors, use linspace\n",
    "\n",
    "x = np.linspace(0, 3.14, 100)\n",
    "\n",
    "m = np.logspace(-2,3,9) # special for astronomers!\n",
    "\n",
    "y = np.sin(x)\n"
   ]
  },
  {
   "cell_type": "markdown",
   "metadata": {
    "slideshow": {
     "slide_type": "slide"
    }
   },
   "source": [
    "Slicing in numpy\n",
    "==="
   ]
  },
  {
   "cell_type": "code",
   "execution_count": 16,
   "metadata": {
    "slideshow": {
     "slide_type": "-"
    }
   },
   "outputs": [
    {
     "name": "stdout",
     "output_type": "stream",
     "text": [
      "[]\n",
      "[[0. 0. 0. 0.]\n",
      " [0. 0. 0. 0.]\n",
      " [0. 0. 1. 1.]\n",
      " [0. 0. 1. 1.]]\n",
      "[[2. 2. 2. 2.]\n",
      " [0. 0. 0. 0.]\n",
      " [0. 0. 1. 1.]\n",
      " [0. 0. 1. 1.]]\n",
      "[[2. 5. 5. 2.]\n",
      " [0. 3. 3. 0.]\n",
      " [0. 3. 4. 1.]\n",
      " [0. 3. 4. 1.]]\n"
     ]
    }
   ],
   "source": [
    "a = np.zeros( (4,4) )\n",
    "\n",
    "print (a[2:4][2:4]) # does this work? no.\n",
    "\n",
    "a[2:4,2:4] = 1 # Works\n",
    "print (a)\n",
    "a[0] = 2\n",
    "print (a)\n",
    "a[:,1:3] += 3\n",
    "print (a)\n",
    "# the array shape is unaltered by\n",
    "# these operations\n"
   ]
  },
  {
   "cell_type": "markdown",
   "metadata": {
    "slideshow": {
     "slide_type": "slide"
    }
   },
   "source": [
    "Rows and columns\n",
    "==="
   ]
  },
  {
   "cell_type": "code",
   "execution_count": 17,
   "metadata": {
    "slideshow": {
     "slide_type": "-"
    }
   },
   "outputs": [
    {
     "name": "stdout",
     "output_type": "stream",
     "text": [
      "[4. 4. 4. 4.]\n"
     ]
    }
   ],
   "source": [
    "a = np.zeros( (4,4) )\n",
    "\n",
    "# accessing rows and columns\n",
    "\n",
    "a[0,:] # the first row\n",
    "\n",
    "a[0] = 4 # the first row set to 4\n",
    "\n",
    "# read a[i,...] as\n",
    "# a[i,<as many :, as needed>]\n",
    "# this is a specific numpy notation\n",
    "\n",
    "print (a[0,...])\n",
    "\n",
    "a[:,1] = 5 # the second column\n",
    "\n",
    "a[:,-1] = 6 # the last column\n"
   ]
  },
  {
   "cell_type": "markdown",
   "metadata": {
    "slideshow": {
     "slide_type": "slide"
    }
   },
   "source": [
    "numpy ASCII file reading - obsoleted by astropy.io.ascii\n",
    "==="
   ]
  },
  {
   "cell_type": "markdown",
   "metadata": {
    "slideshow": {
     "slide_type": "-"
    }
   },
   "source": [
    "fname = 'myfile.dat'\n",
    "\n",
    "data = np.loadtxt(fname)\n",
    "\n",
    "c24 = np.loadtxt(fname,usecols=(1,3)) # to select columns\n",
    "\n",
    "n,w,x,y,z = np.loadtxt(fname,unpack = True)\n",
    "\n",
    "w,y = np.loadtxt(fname,usecols=(1,3), unpack=True)\n",
    "\n",
    "fname2 = 'mydata2.dat' # a different data file\n",
    "\n",
    "data2 = np.loadtxt(fname2,delimiter='/', comments='!',skiprows=3) \n",
    "\n",
    "# default for comments is '#'\n",
    "\n",
    "np.savetxt('result.dat', res,fmt='\\%d :\\\\t \\%.6f')"
   ]
  },
  {
   "cell_type": "markdown",
   "metadata": {
    "slideshow": {
     "slide_type": "slide"
    }
   },
   "source": [
    "Saving/Loading binary arrays\n",
    "==="
   ]
  },
  {
   "cell_type": "code",
   "execution_count": 26,
   "metadata": {
    "slideshow": {
     "slide_type": "-"
    }
   },
   "outputs": [
    {
     "name": "stdout",
     "output_type": "stream",
     "text": [
      "[0 1 2 3 4 5 6 7 8 9]\n",
      "[ 0  1  2  3  4  5  6  7  8  9 10 11 12 13 14 15 16 17 18 19]\n"
     ]
    }
   ],
   "source": [
    "data=np.arange(10)\n",
    "data2 = np.arange(20)\n",
    "np.savez('/tmp/myarrays',x=data,y=data2)\n",
    "\n",
    "myarrays = np.load('/tmp/myarrays.npz')\n",
    "\n",
    "print (myarrays['x'])\n",
    "\n",
    "print (myarrays['y'])"
   ]
  },
  {
   "cell_type": "markdown",
   "metadata": {
    "slideshow": {
     "slide_type": "-"
    }
   },
   "source": [
    "more reliable than pickling files on disk."
   ]
  },
  {
   "cell_type": "markdown",
   "metadata": {
    "slideshow": {
     "slide_type": "slide"
    }
   },
   "source": [
    "Reshape and where\n",
    "==="
   ]
  },
  {
   "cell_type": "code",
   "execution_count": 24,
   "metadata": {
    "scrolled": true,
    "slideshow": {
     "slide_type": "-"
    }
   },
   "outputs": [
    {
     "data": {
      "text/plain": [
       "<matplotlib.image.AxesImage at 0x7f8c3335cd30>"
      ]
     },
     "execution_count": 24,
     "metadata": {},
     "output_type": "execute_result"
    },
    {
     "data": {
      "image/png": "[encoded data removed]",
      "text/plain": [
       "<Figure size 432x288 with 1 Axes>"
      ]
     },
     "metadata": {
      "needs_background": "light"
     },
     "output_type": "display_data"
    }
   ],
   "source": [
    "import matplotlib.pyplot as plt\n",
    "x = np.arange(100).reshape((10,10))\n",
    "plt.imshow(x,interpolation='none')\n"
   ]
  },
  {
   "cell_type": "code",
   "execution_count": 23,
   "metadata": {
    "scrolled": true,
    "slideshow": {
     "slide_type": "slide"
    }
   },
   "outputs": [
    {
     "data": {
      "text/plain": [
       "<matplotlib.colorbar.Colorbar at 0x7f8c3349b250>"
      ]
     },
     "execution_count": 23,
     "metadata": {},
     "output_type": "execute_result"
    },
    {
     "data": {
      "image/png": "[encoded data removed]",
      "text/plain": [
       "<Figure size 432x288 with 2 Axes>"
      ]
     },
     "metadata": {
      "needs_background": "light"
     },
     "output_type": "display_data"
    }
   ],
   "source": [
    "x[np.where(np.logical_and(x > 50,x <75))] = 0\n",
    "plt.imshow(x,interpolation='none')\n",
    "plt.colorbar()"
   ]
  },
  {
   "cell_type": "markdown",
   "metadata": {
    "slideshow": {
     "slide_type": "-"
    }
   },
   "source": [
    "**np.where() may be the single most important function that you will use in numpy.** "
   ]
  },
  {
   "cell_type": "markdown",
   "metadata": {
    "slideshow": {
     "slide_type": "slide"
    }
   },
   "source": [
    "Numpy documentation with examples\n",
    "==="
   ]
  },
  {
   "cell_type": "markdown",
   "metadata": {
    "slideshow": {
     "slide_type": "-"
    }
   },
   "source": [
    "There are over 400 functions in numpy (doing everything from rebinning to\n",
    "obtaining polynomial least squares fits) in numpy for array\n",
    "manipulation.\n",
    "\n",
    "As time permits, please read through the excellent Numpy user guide at\n",
    "\n",
    "https://numpy.org/doc/stable/user/index.html\n",
    "\n",
    "We will cover only a fraction of the capabilities on `numpy`in this course.\n",
    "\n"
   ]
  },
  {
   "cell_type": "markdown",
   "metadata": {
    "slideshow": {
     "slide_type": "slide"
    }
   },
   "source": [
    "Masked arrays - np.ma\n",
    "==="
   ]
  },
  {
   "cell_type": "markdown",
   "metadata": {
    "slideshow": {
     "slide_type": "-"
    }
   },
   "source": [
    "Masked arrays are arrays that may have missing or invalid entries. Very common in astronomy."
   ]
  },
  {
   "cell_type": "code",
   "execution_count": 5,
   "metadata": {
    "slideshow": {
     "slide_type": "-"
    }
   },
   "outputs": [
    {
     "name": "stdout",
     "output_type": "stream",
     "text": [
      "[-- -- 3 -1 5]\n",
      "2.0\n",
      "2.75\n",
      "[1 2 3 -1 --]\n"
     ]
    }
   ],
   "source": [
    "import numpy.ma as ma, numpy as np\n",
    "\n",
    "x = np.array([1, 2, 3, -1, 5])\n",
    "mx = ma.masked_array(x, mask=[0, 0, 0, 1, 0])\n",
    "mx2 = ma.masked_array(x, mask=[1, 1, 0, 0, 0])\n",
    "mx2 = ma.masked_array(x, mask=[True, True, False, False, False]) # equivalent more Pythonic syntax\n",
    "print (mx2)\n",
    "print (x.mean())\n",
    "print (mx.mean())\n",
    "\n",
    "mx/mx2 # Arithmetic operations on 2 masked arrays possible.\n",
    "\n",
    "y = ma.masked_where(x>3,x)\n",
    "print (y)"
   ]
  },
  {
   "cell_type": "markdown",
   "metadata": {
    "slideshow": {
     "slide_type": "slide"
    }
   },
   "source": [
    "Numpy functions and object methods\n",
    "==="
   ]
  },
  {
   "cell_type": "code",
   "execution_count": 28,
   "metadata": {
    "slideshow": {
     "slide_type": "-"
    }
   },
   "outputs": [
    {
     "name": "stdout",
     "output_type": "stream",
     "text": [
      "4950\n",
      "4950\n"
     ]
    }
   ],
   "source": [
    "a = np.arange(100)\n",
    "\n",
    "print (np.sum(a)) # Functional programming\n",
    "\n",
    "print (a.sum()) # Object oriented programming\n",
    "\n",
    "# The same underlying code provides both functional and OO calling functions."
   ]
  },
  {
   "cell_type": "markdown",
   "metadata": {
    "slideshow": {
     "slide_type": "slide"
    }
   },
   "source": [
    "Histograms\n",
    "==="
   ]
  },
  {
   "cell_type": "code",
   "execution_count": 30,
   "metadata": {
    "slideshow": {
     "slide_type": "-"
    }
   },
   "outputs": [
    {
     "data": {
      "text/plain": [
       "<matplotlib.image.AxesImage at 0x7f8c33335df0>"
      ]
     },
     "execution_count": 30,
     "metadata": {},
     "output_type": "execute_result"
    },
    {
     "data": {
      "image/png": "[encoded data removed]",
      "text/plain": [
       "<Figure size 432x288 with 1 Axes>"
      ]
     },
     "metadata": {
      "needs_background": "light"
     },
     "output_type": "display_data"
    }
   ],
   "source": [
    "\n",
    "x, y = np.random.randn(2, 100000)\n",
    "\n",
    "H, xedges, yedges = np.histogram2d(x, y, bins=50)\n",
    "\n",
    "extent = [xedges[0], xedges[-1], yedges[0], yedges[-1]]\n",
    "\n",
    "plt.imshow(H, extent=extent)\n"
   ]
  },
  {
   "cell_type": "markdown",
   "metadata": {
    "slideshow": {
     "slide_type": "slide"
    }
   },
   "source": [
    "Matrix objects\n",
    "==="
   ]
  },
  {
   "cell_type": "code",
   "execution_count": 52,
   "metadata": {
    "slideshow": {
     "slide_type": "-"
    }
   },
   "outputs": [
    {
     "data": {
      "text/plain": [
       "matrix([[0.2, 0. , 0. ],\n",
       "        [0. , 0.2, 0. ],\n",
       "        [0. , 0. , 0.2]])"
      ]
     },
     "execution_count": 52,
     "metadata": {},
     "output_type": "execute_result"
    }
   ],
   "source": [
    "x1 = np.array([1, 2, 3], float)\n",
    "\n",
    "x2 = np.matrix(x1)\n",
    "\n",
    "A = np.identity(3)\n",
    "\n",
    "A = 5* np.mat(A)\n",
    "\n",
    "B = x2*A # matrix multiplication\n",
    "\n",
    "np.linalg.inv(A)"
   ]
  },
  {
   "cell_type": "markdown",
   "metadata": {
    "slideshow": {
     "slide_type": "-"
    }
   },
   "source": [
    "$*$ represents matrix-matrix matrix-vector or vector-matrix multiplication. "
   ]
  },
  {
   "cell_type": "markdown",
   "metadata": {
    "slideshow": {
     "slide_type": "slide"
    }
   },
   "source": [
    "Numpy capabilities\n",
    "==="
   ]
  },
  {
   "cell_type": "markdown",
   "metadata": {
    "slideshow": {
     "slide_type": "-"
    }
   },
   "source": [
    "* Discrete Fourier Transform (np.fft)\n",
    "* Linear algebra (np.linalg): cholesky, svd, eigenvalues/vectors, matrix inversion, solving equations (LAPACK)\n",
    "* Random sampling (np.random)\n",
    "* statistics: covariance, correlation, variances, histograms\n",
    "* polynomials: root finding, fitting data \n",
    "* Matrix library (np.matlib)\n",
    "* **f2py** - a FORTRAN to Python interface generator"
   ]
  },
  {
   "cell_type": "markdown",
   "metadata": {
    "slideshow": {
     "slide_type": "slide"
    }
   },
   "source": [
    "How fast is numpy?\n",
    "==="
   ]
  },
  {
   "cell_type": "markdown",
   "metadata": {
    "slideshow": {
     "slide_type": "-"
    }
   },
   "source": [
    "* 100 times faster than with a for loop with native Python types\n",
    "* Somewhat slower than a modern FORTRAN/C++ compiler with  -O3 optimisations\n",
    "* comparable speed to Matlab \n",
    "\n",
    "\n",
    "But this is run speed. In development and debugging time, Python is\n",
    "far ahead of FORTRAN/C++. But if __speed is really critical__ to your code,\n",
    "you can profile your Python code and rewrite slower parts in\n",
    "C/C++/FORTRAN."
   ]
  }
 ],
 "metadata": {
  "celltoolbar": "Slideshow",
  "kernelspec": {
   "display_name": "Python 3",
   "language": "python",
   "name": "python3"
  },
  "language_info": {
   "codemirror_mode": {
    "name": "ipython",
    "version": 3
   },
   "file_extension": ".py",
   "mimetype": "text/x-python",
   "name": "python",
   "nbconvert_exporter": "python",
   "pygments_lexer": "ipython3",
   "version": "3.8.10"
  }
 },
 "nbformat": 4,
 "nbformat_minor": 1
}
