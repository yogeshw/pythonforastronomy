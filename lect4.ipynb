{
 "cells": [
  {
   "cell_type": "markdown",
   "metadata": {
    "id": "m67dfyIZ2Bw5",
    "slideshow": {
     "slide_type": "slide"
    }
   },
   "source": [
    "Astronomical data analysis using Python\n",
    "===============\n",
    "\n",
    " \n",
    "\n",
    "Lecture 4\n",
    "-------------\n",
    " \n",
    "\n",
    " "
   ]
  },
  {
   "cell_type": "code",
   "execution_count": 1,
   "metadata": {
    "colab": {
     "base_uri": "https://localhost:8080/"
    },
    "id": "Z3e4q16PA16l",
    "outputId": "f61e2a59-f3bc-42c4-8d9a-894d93fc901c",
    "slideshow": {
     "slide_type": "slide"
    }
   },
   "outputs": [
    {
     "name": "stdout",
     "output_type": "stream",
     "text": [
      "Character no. 1 is H\n",
      "Character no. 2 is e\n",
      "Character no. 3 is l\n",
      "Character no. 4 is l\n",
      "Character no. 5 is o\n",
      "Character no. 6 is !\n"
     ]
    }
   ],
   "source": [
    "a = \"Hello!\"\n",
    "\n",
    "for i, c in enumerate(a):\n",
    "    print (\"Character no. %d is %s\" % (i+1, c)) # i+1 is used because Python is 0-indexed.\n",
    "\n"
   ]
  },
  {
   "cell_type": "code",
   "execution_count": 2,
   "metadata": {
    "slideshow": {
     "slide_type": "slide"
    }
   },
   "outputs": [
    {
     "name": "stdout",
     "output_type": "stream",
     "text": [
      "(0, 'H')\n",
      "(1, 'e')\n",
      "(2, 'l')\n",
      "(3, 'l')\n",
      "(4, 'o')\n",
      "(5, '!')\n"
     ]
    }
   ],
   "source": [
    "a = \"Hello!\"\n",
    "\n",
    "for i in enumerate(a):\n",
    "    print (i)\n"
   ]
  },
  {
   "cell_type": "markdown",
   "metadata": {
    "slideshow": {
     "slide_type": "slide"
    }
   },
   "source": [
    "What we have covered so far\n",
    "=======\n",
    "\n",
    "* Why use Python? Its basic ideas and design philosopy (Zen of Python), learning resources.\n",
    "* Our slice of Python - astronomical data analysis\n",
    "* Some data types: **float, str, int** and their type casting functions\n",
    "* **print()** function and string formatting, tuple unpacking\n",
    "* builtin functions - **dir(), help(), type()**\n",
    "* **bool** and expression evaluation\n",
    "* **sequences** and sequence **slicing**, **mutability**\n",
    "* almost everything in Python is an **object** - full support for Object Oriented Programming\n",
    "* Conditionals **if-elif-else**\n",
    "* Loops: **while** and **for**\n",
    "* **Indentation**\n",
    "* **break** and **continue**\n",
    "* Ordered structures - **sequences, lists**\n",
    "* Unordered (labelled) structure - **dictionary**\n",
    "* Elements of good programming style - **PEP 8**  "
   ]
  },
  {
   "cell_type": "markdown",
   "metadata": {
    "slideshow": {
     "slide_type": "slide"
    }
   },
   "source": [
    "What we will cover next:\n",
    "======\n",
    "* File I/O\n",
    "* Functions\n",
    "* Modules"
   ]
  },
  {
   "cell_type": "markdown",
   "metadata": {
    "id": "bZ0n9iaM2BxC",
    "slideshow": {
     "slide_type": "slide"
    }
   },
   "source": [
    "Handling Files\n",
    "---------------\n",
    "\n",
    "Let us study how to handle files through a simple exercise. The basic approach involves creating file objects in Python and use various methods associated with file objects to handle file I/O. Such an approach is used in many other programming languages.\n",
    "\n",
    "* open() function is used to create a file object.\n",
    "* fileObject.read() - reads entire file as one big string.\n",
    "* fileObject.write() - to write a string into a file.\n",
    "* fileObject.readlines() - to read each line as an element of a list.\n",
    "* fileObject.writelines() - to write a set of lines, each one being a string.\n",
    "* fileObject.close() - to close a file (buffer flush)"
   ]
  },
  {
   "cell_type": "markdown",
   "metadata": {
    "id": "m2hNZivl2BxF",
    "slideshow": {
     "slide_type": "slide"
    }
   },
   "source": [
    "Program to \"Double Space\" a File\n",
    "-----------------"
   ]
  },
  {
   "cell_type": "code",
   "execution_count": 2,
   "metadata": {
    "id": "JY1bw9j52BxI",
    "slideshow": {
     "slide_type": "-"
    }
   },
   "outputs": [],
   "source": [
    "\"\"\" \n",
    "Program to create a double spaced file.\n",
    "Input: File Name\n",
    "Output: Modified File with .sp extension\n",
    "\"\"\"\n",
    "\n",
    "import sys # we need this to parse command line arguments.\n",
    "import os # we need this to check for file's existence\n"
   ]
  },
  {
   "cell_type": "code",
   "execution_count": 3,
   "metadata": {
    "colab": {
     "base_uri": "https://localhost:8080/",
     "height": 163
    },
    "id": "Awbk4ElV2BxP",
    "outputId": "c47faf7a-25c0-47ae-e8ed-8e6a83ae3fb0",
    "slideshow": {
     "slide_type": "slide"
    }
   },
   "outputs": [
    {
     "name": "stdout",
     "output_type": "stream",
     "text": [
      "Oops! Incorrect Number of Arguments.\n"
     ]
    },
    {
     "ename": "SystemExit",
     "evalue": "2",
     "output_type": "error",
     "traceback": [
      "An exception has occurred, use %tb to see the full traceback.\n",
      "\u001b[0;31mSystemExit\u001b[0m\u001b[0;31m:\u001b[0m 2\n"
     ]
    },
    {
     "name": "stderr",
     "output_type": "stream",
     "text": [
      "/usr/lib/python3/dist-packages/IPython/core/interactiveshell.py:3561: UserWarning: To exit: use 'exit', 'quit', or Ctrl-D.\n",
      "  warn(\"To exit: use 'exit', 'quit', or Ctrl-D.\", stacklevel=1)\n"
     ]
    }
   ],
   "source": [
    "# Check number of arguments.\n",
    "if len(sys.argv) == 2:\n",
    "\tinfile_name = sys.argv[1]\n",
    "else:\n",
    "\tprint (\"Oops! Incorrect Number of Arguments.\")\n",
    "\tsys.exit(2)\n",
    "\n",
    "# Check if file exists.\n",
    "if not os.path.isfile(infile_name):\n",
    "\tprint (\"File doesn't exist.\")\n",
    "\tsys.exit(3)"
   ]
  },
  {
   "cell_type": "code",
   "execution_count": null,
   "metadata": {
    "colab": {
     "base_uri": "https://localhost:8080/",
     "height": 231
    },
    "id": "9nls752-2BxR",
    "outputId": "76dda325-dd17-45dd-a3ee-24b1ed9288cf",
    "slideshow": {
     "slide_type": "slide"
    }
   },
   "outputs": [],
   "source": [
    "# Open the input file.\n",
    "infile_name='sample.txt'\n",
    "infile = open(infile_name, \"r\")\n",
    "\n",
    "# Open an output file.\n",
    "outfile = open(infile_name + \".sp\", \"w\")\n",
    "\n",
    "# Loop over each line, add new line to each line.\n",
    "for line in infile.readlines():\n",
    "\tline = line+\"\\n\"\n",
    "\toutfile.write(line)\n",
    "\n",
    "outfile.close()\n",
    "infile.close()\n"
   ]
  },
  {
   "cell_type": "markdown",
   "metadata": {
    "slideshow": {
     "slide_type": "-"
    }
   },
   "source": [
    "Please practice reading and writing simple textfiles on your own. Assignment 1 will require you to have these skills. Reading and writing of large data files - images, spectra, data cubes - will be taught a few lectures later. The process - open filehandle, read/write data, close filehandle remains the same.  "
   ]
  },
  {
   "cell_type": "markdown",
   "metadata": {
    "id": "ci_ounio2BxT",
    "slideshow": {
     "slide_type": "slide"
    }
   },
   "source": [
    "Functions\n",
    "==========\n",
    "\n",
    "Blocks of code that perform a specific task. Very useful in avoiding replication of code where the same or a very similar task is carried out multiple times inside a program.\n",
    "\n",
    "In Python, a function is defined using the \"def\" keyword. \n",
    "\n",
    "We have already seen examples of built-in functions.\n",
    "\n",
    "* float(), dict(), list(), len() etc.\n",
    "* math - sqrt(), radians(), sin()\n",
    "* open(), type() etc."
   ]
  },
  {
   "cell_type": "markdown",
   "metadata": {
    "id": "wOMTXbPo2BxW",
    "slideshow": {
     "slide_type": "slide"
    }
   },
   "source": [
    "A Simple Function with no arguments\n",
    "-------------------"
   ]
  },
  {
   "cell_type": "code",
   "execution_count": null,
   "metadata": {
    "colab": {
     "base_uri": "https://localhost:8080/"
    },
    "id": "Q-LZ1L9G2BxY",
    "outputId": "dc841c45-66fa-4754-f7ea-2a019dc6b8c1",
    "slideshow": {
     "slide_type": "-"
    }
   },
   "outputs": [
    {
     "name": "stdout",
     "output_type": "stream",
     "text": [
      "Outside the function.\n"
     ]
    }
   ],
   "source": [
    "def myfun():\n",
    "    print (\"Hello World!\")\n",
    "    print (\"Nice to see you.\")\n",
    "\n",
    "print (\"Outside the function.\")"
   ]
  },
  {
   "cell_type": "markdown",
   "metadata": {
    "id": "hyrXIpLg2Bxe",
    "slideshow": {
     "slide_type": "-"
    }
   },
   "source": [
    "a function is not executed until it is called. Pay attention to how the statements indented one level up are part of the function while the statement indented at the same level is not a part of the function."
   ]
  },
  {
   "cell_type": "code",
   "execution_count": null,
   "metadata": {
    "colab": {
     "base_uri": "https://localhost:8080/"
    },
    "id": "KjInpR2J2Bxg",
    "outputId": "d16b99f3-13ed-4c89-877b-25b694aef86b",
    "slideshow": {
     "slide_type": "-"
    }
   },
   "outputs": [
    {
     "name": "stdout",
     "output_type": "stream",
     "text": [
      "Hello World!\n",
      "Nice to see you.\n"
     ]
    }
   ],
   "source": [
    "myfun() # This is how you call our function."
   ]
  },
  {
   "cell_type": "markdown",
   "metadata": {
    "id": "gN5npKfF2Bxj",
    "slideshow": {
     "slide_type": "slide"
    }
   },
   "source": [
    "Function With One Argument\n",
    "-------------\n"
   ]
  },
  {
   "cell_type": "code",
   "execution_count": null,
   "metadata": {
    "id": "S8j_FP0y2Bxk",
    "slideshow": {
     "slide_type": "-"
    }
   },
   "outputs": [],
   "source": [
    "def myfun(a):\n",
    "    print (\"Inside MyFun!\")\n",
    "    print (a)"
   ]
  },
  {
   "cell_type": "code",
   "execution_count": null,
   "metadata": {
    "colab": {
     "base_uri": "https://localhost:8080/",
     "height": 163
    },
    "id": "wSK-Tz7o2Bxm",
    "outputId": "0f0119a0-69d5-4495-c579-04ecac64ec1b",
    "slideshow": {
     "slide_type": "-"
    }
   },
   "outputs": [
    {
     "ename": "TypeError",
     "evalue": "myfun() missing 1 required positional argument: 'a'",
     "output_type": "error",
     "traceback": [
      "\u001b[0;31m---------------------------------------------------------------------------\u001b[0m",
      "\u001b[0;31mTypeError\u001b[0m                                 Traceback (most recent call last)",
      "\u001b[0;32m<ipython-input-6-f67cbbab1c46>\u001b[0m in \u001b[0;36m<module>\u001b[0;34m\u001b[0m\n\u001b[0;32m----> 1\u001b[0;31m \u001b[0mmyfun\u001b[0m\u001b[0;34m(\u001b[0m\u001b[0;34m)\u001b[0m \u001b[0;31m# WILL GIVE ERROR.\u001b[0m\u001b[0;34m\u001b[0m\u001b[0;34m\u001b[0m\u001b[0m\n\u001b[0m",
      "\u001b[0;31mTypeError\u001b[0m: myfun() missing 1 required positional argument: 'a'"
     ]
    }
   ],
   "source": [
    "myfun() # WILL GIVE ERROR."
   ]
  },
  {
   "cell_type": "markdown",
   "metadata": {
    "id": "R5h8-wfM2Bxo",
    "slideshow": {
     "slide_type": "-"
    }
   },
   "source": [
    "As per function definition, one argument / input is needed. An attempt to call the function with none gives an error. EVEN supplying two arguments is wrong."
   ]
  },
  {
   "cell_type": "code",
   "execution_count": null,
   "metadata": {
    "colab": {
     "base_uri": "https://localhost:8080/"
    },
    "id": "-Q2nWOqy2Bxq",
    "outputId": "a654fd89-ffbf-48f2-943a-c1a3b1fa4c45",
    "slideshow": {
     "slide_type": "-"
    }
   },
   "outputs": [
    {
     "name": "stdout",
     "output_type": "stream",
     "text": [
      "Inside MyFun!\n",
      "An Input\n"
     ]
    }
   ],
   "source": [
    "myfun(\"An Input\")"
   ]
  },
  {
   "cell_type": "markdown",
   "metadata": {
    "id": "sfWRTk1B2Bxt",
    "slideshow": {
     "slide_type": "slide"
    }
   },
   "source": [
    "REMEMBER\n",
    "------\n",
    "\n",
    "Python is a dynamically typed language. The true strength of this lies in the fact that you can also call the above function with a float or integer or list input!"
   ]
  },
  {
   "cell_type": "code",
   "execution_count": null,
   "metadata": {
    "colab": {
     "base_uri": "https://localhost:8080/"
    },
    "id": "GQb3WyMj2Bxv",
    "outputId": "6abf534e-f470-4a95-f7f8-dccca6a9b62f",
    "slideshow": {
     "slide_type": "-"
    }
   },
   "outputs": [
    {
     "name": "stdout",
     "output_type": "stream",
     "text": [
      "Inside MyFun!\n",
      "5\n"
     ]
    }
   ],
   "source": [
    "myfun(5)"
   ]
  },
  {
   "cell_type": "code",
   "execution_count": null,
   "metadata": {
    "colab": {
     "base_uri": "https://localhost:8080/"
    },
    "id": "3l9A0qvL2Bxx",
    "outputId": "cbb2f1d7-1d5e-47fc-8027-594b4d82c45b",
    "slideshow": {
     "slide_type": "-"
    }
   },
   "outputs": [
    {
     "name": "stdout",
     "output_type": "stream",
     "text": [
      "Inside MyFun!\n",
      "[1, 2, 3]\n"
     ]
    }
   ],
   "source": [
    "myfun( [1,2,3] )"
   ]
  },
  {
   "cell_type": "markdown",
   "metadata": {
    "id": "I-0PkmW02Bxz",
    "slideshow": {
     "slide_type": "slide"
    }
   },
   "source": [
    "Functions that \"return\" something.\n",
    "----------"
   ]
  },
  {
   "cell_type": "code",
   "execution_count": null,
   "metadata": {
    "id": "_x72Tdve2Bx1",
    "slideshow": {
     "slide_type": "-"
    }
   },
   "outputs": [],
   "source": [
    "def add(a,b):\n",
    "    return a+b"
   ]
  },
  {
   "cell_type": "code",
   "execution_count": null,
   "metadata": {
    "colab": {
     "base_uri": "https://localhost:8080/"
    },
    "id": "DXXWYpvx2Bx3",
    "outputId": "b4f5d882-4037-4c11-92f3-14500da9d5cc",
    "slideshow": {
     "slide_type": "-"
    }
   },
   "outputs": [
    {
     "name": "stdout",
     "output_type": "stream",
     "text": [
      "5\n"
     ]
    }
   ],
   "source": [
    "a = add(2,3)\n",
    "print (a)"
   ]
  },
  {
   "cell_type": "markdown",
   "metadata": {
    "id": "waag78eX2Bx5",
    "slideshow": {
     "slide_type": "slide"
    }
   },
   "source": [
    "A function that does not have a return statement returns by default an object called \"None\"."
   ]
  },
  {
   "cell_type": "code",
   "execution_count": null,
   "metadata": {
    "colab": {
     "base_uri": "https://localhost:8080/"
    },
    "id": "1wE8x6cw2Bx7",
    "outputId": "05e64021-0500-463d-ee4c-340b10d9636c",
    "slideshow": {
     "slide_type": "-"
    }
   },
   "outputs": [
    {
     "name": "stdout",
     "output_type": "stream",
     "text": [
      "Inside MyFun!\n",
      "Hello\n"
     ]
    }
   ],
   "source": [
    "b = myfun(\"Hello\")"
   ]
  },
  {
   "cell_type": "code",
   "execution_count": null,
   "metadata": {
    "colab": {
     "base_uri": "https://localhost:8080/"
    },
    "id": "4o02zu3Z2Bx9",
    "outputId": "a81028fc-fcea-4f79-dc65-5808dc74502a",
    "slideshow": {
     "slide_type": "-"
    }
   },
   "outputs": [
    {
     "name": "stdout",
     "output_type": "stream",
     "text": [
      "None\n"
     ]
    }
   ],
   "source": [
    "print (b)"
   ]
  },
  {
   "cell_type": "markdown",
   "metadata": {
    "id": "i8x8jaIB2Bx_",
    "slideshow": {
     "slide_type": "slide"
    }
   },
   "source": [
    "Functions can return more than one value at a time!\n",
    "------"
   ]
  },
  {
   "cell_type": "code",
   "execution_count": null,
   "metadata": {
    "id": "mwfFiO1b2ByB",
    "slideshow": {
     "slide_type": "-"
    }
   },
   "outputs": [],
   "source": [
    "def sumprod(a,b):\n",
    "    return a+b, a*b"
   ]
  },
  {
   "cell_type": "code",
   "execution_count": null,
   "metadata": {
    "id": "P55uXVaV2ByC",
    "slideshow": {
     "slide_type": "-"
    }
   },
   "outputs": [],
   "source": [
    "s, p = sumprod(2,3)"
   ]
  },
  {
   "cell_type": "markdown",
   "metadata": {
    "id": "B0BZi0ws2ByD",
    "slideshow": {
     "slide_type": "-"
    }
   },
   "source": [
    "Well, technically - Python is returning only one object but that one object is a tuple - in the above case "
   ]
  },
  {
   "cell_type": "code",
   "execution_count": null,
   "metadata": {},
   "outputs": [],
   "source": []
  },
  {
   "cell_type": "markdown",
   "metadata": {
    "id": "NaVeFBGc2ByF",
    "slideshow": {
     "slide_type": "slide"
    }
   },
   "source": [
    "Optional Arguments\n",
    "---------------\n",
    "\n",
    "\"I want a function to assume some values for some arguments when I don't provide them!\" Let's see how this is achieved."
   ]
  },
  {
   "cell_type": "code",
   "execution_count": null,
   "metadata": {
    "id": "gWS7QPeG2ByG",
    "slideshow": {
     "slide_type": "-"
    }
   },
   "outputs": [],
   "source": [
    "def myfun(message = \"Good Day!\"):\n",
    "    print (message)"
   ]
  },
  {
   "cell_type": "code",
   "execution_count": null,
   "metadata": {
    "colab": {
     "base_uri": "https://localhost:8080/"
    },
    "id": "lzMFikiH2ByH",
    "outputId": "98f1000a-938e-4a14-fa5b-a0e48c903cf6",
    "slideshow": {
     "slide_type": "-"
    }
   },
   "outputs": [
    {
     "name": "stdout",
     "output_type": "stream",
     "text": [
      "Hello World\n"
     ]
    }
   ],
   "source": [
    "myfun(\"Hello World\")"
   ]
  },
  {
   "cell_type": "code",
   "execution_count": null,
   "metadata": {
    "colab": {
     "base_uri": "https://localhost:8080/"
    },
    "id": "n_ZUwvJ82ByJ",
    "outputId": "a0d351f0-a9d5-49f6-ab11-231c10ebfbed",
    "slideshow": {
     "slide_type": "-"
    }
   },
   "outputs": [
    {
     "name": "stdout",
     "output_type": "stream",
     "text": [
      "Good Day!\n"
     ]
    }
   ],
   "source": [
    "myfun()"
   ]
  },
  {
   "cell_type": "markdown",
   "metadata": {
    "id": "-tCvQITF2ByL",
    "slideshow": {
     "slide_type": "slide"
    }
   },
   "source": [
    "Functions with Arbitrary Number of Arguments\n",
    "-------------"
   ]
  },
  {
   "cell_type": "code",
   "execution_count": null,
   "metadata": {
    "id": "UP1eH3Hd2ByN",
    "slideshow": {
     "slide_type": "-"
    }
   },
   "outputs": [],
   "source": [
    "def sumitall(*values):\n",
    "    total = 0\n",
    "    for i in values:\n",
    "        total += i\n",
    "    return total"
   ]
  },
  {
   "cell_type": "code",
   "execution_count": null,
   "metadata": {
    "colab": {
     "base_uri": "https://localhost:8080/"
    },
    "id": "57bcRi1w2ByO",
    "outputId": "bf149fe9-c47e-47bf-8bea-d036b60d7aae",
    "slideshow": {
     "slide_type": "-"
    }
   },
   "outputs": [
    {
     "data": {
      "text/plain": [
       "14"
      ]
     },
     "execution_count": 24,
     "metadata": {},
     "output_type": "execute_result"
    }
   ],
   "source": [
    "sumitall(2,3,4,5)"
   ]
  },
  {
   "cell_type": "code",
   "execution_count": null,
   "metadata": {
    "colab": {
     "base_uri": "https://localhost:8080/"
    },
    "id": "Uci8smA22ByQ",
    "outputId": "2fb3f3fc-6710-41ce-bc07-4d9ab76938e0",
    "slideshow": {
     "slide_type": "-"
    }
   },
   "outputs": [
    {
     "data": {
      "text/plain": [
       "9"
      ]
     },
     "execution_count": 25,
     "metadata": {},
     "output_type": "execute_result"
    }
   ],
   "source": [
    "sumitall(2,3,4)"
   ]
  },
  {
   "cell_type": "markdown",
   "metadata": {
    "id": "SVN9VpKp2ByS",
    "slideshow": {
     "slide_type": "slide"
    }
   },
   "source": [
    "Mixture of Arguments\n",
    "---------"
   ]
  },
  {
   "cell_type": "code",
   "execution_count": null,
   "metadata": {
    "colab": {
     "base_uri": "https://localhost:8080/"
    },
    "id": "evruet3s2ByT",
    "outputId": "572ccc68-63e3-4717-cd4d-570eaefa828c",
    "slideshow": {
     "slide_type": "-"
    }
   },
   "outputs": [
    {
     "data": {
      "text/plain": [
       "0"
      ]
     },
     "execution_count": 26,
     "metadata": {},
     "output_type": "execute_result"
    }
   ],
   "source": [
    "sumitall()"
   ]
  },
  {
   "cell_type": "code",
   "execution_count": null,
   "metadata": {
    "id": "VMZZrGAu2ByU",
    "slideshow": {
     "slide_type": "-"
    }
   },
   "outputs": [],
   "source": [
    "def sumitall2(val1, *values):\n",
    "    total = val1\n",
    "    for i in values:\n",
    "        total += i\n",
    "    return total"
   ]
  },
  {
   "cell_type": "code",
   "execution_count": null,
   "metadata": {
    "colab": {
     "base_uri": "https://localhost:8080/"
    },
    "id": "fX8AybAA2ByV",
    "outputId": "9a5d8082-c796-48d5-d3c2-3506a25e33ea",
    "slideshow": {
     "slide_type": "-"
    }
   },
   "outputs": [
    {
     "data": {
      "text/plain": [
       "2"
      ]
     },
     "execution_count": 28,
     "metadata": {},
     "output_type": "execute_result"
    }
   ],
   "source": [
    "sumitall2(2)"
   ]
  },
  {
   "cell_type": "code",
   "execution_count": null,
   "metadata": {
    "colab": {
     "base_uri": "https://localhost:8080/"
    },
    "id": "liZdgBQY2ByX",
    "outputId": "1ffbf170-eb52-4003-befb-0e04153ac17e",
    "slideshow": {
     "slide_type": "slide"
    }
   },
   "outputs": [
    {
     "data": {
      "text/plain": [
       "9"
      ]
     },
     "execution_count": 29,
     "metadata": {},
     "output_type": "execute_result"
    }
   ],
   "source": [
    "sumitall2(2,3,4)"
   ]
  },
  {
   "cell_type": "code",
   "execution_count": null,
   "metadata": {
    "colab": {
     "base_uri": "https://localhost:8080/",
     "height": 163
    },
    "id": "gHrY4BuB2ByZ",
    "outputId": "a6c0be54-1d3e-441b-8c21-a5e06c66d40b",
    "slideshow": {
     "slide_type": "-"
    }
   },
   "outputs": [
    {
     "ename": "TypeError",
     "evalue": "sumitall2() missing 1 required positional argument: 'val1'",
     "output_type": "error",
     "traceback": [
      "\u001b[0;31m---------------------------------------------------------------------------\u001b[0m",
      "\u001b[0;31mTypeError\u001b[0m                                 Traceback (most recent call last)",
      "\u001b[0;32m<ipython-input-30-810847688c33>\u001b[0m in \u001b[0;36m<module>\u001b[0;34m\u001b[0m\n\u001b[0;32m----> 1\u001b[0;31m \u001b[0msumitall2\u001b[0m\u001b[0;34m(\u001b[0m\u001b[0;34m)\u001b[0m \u001b[0;31m# WILL GIVE AN ERROR.\u001b[0m\u001b[0;34m\u001b[0m\u001b[0;34m\u001b[0m\u001b[0m\n\u001b[0m",
      "\u001b[0;31mTypeError\u001b[0m: sumitall2() missing 1 required positional argument: 'val1'"
     ]
    }
   ],
   "source": [
    "sumitall2() # WILL GIVE AN ERROR."
   ]
  },
  {
   "cell_type": "markdown",
   "metadata": {
    "id": "bw0xg6Om2Bya",
    "slideshow": {
     "slide_type": "-"
    }
   },
   "source": [
    "This way, you can design functions the way you want by imposing both a minimum number of arguments and have flexibility of an arbitary number of them!"
   ]
  },
  {
   "cell_type": "markdown",
   "metadata": {
    "id": "cnRskhKj2Byb",
    "slideshow": {
     "slide_type": "slide"
    }
   },
   "source": [
    "Functions are Objects\n",
    "---------------\n",
    "\n",
    "Like lists, dictionaries, ints, floats, strings etc. you can pass functions to other functions since they are just objects."
   ]
  },
  {
   "cell_type": "code",
   "execution_count": null,
   "metadata": {
    "id": "NW_xJtkq2Byd",
    "slideshow": {
     "slide_type": "-"
    }
   },
   "outputs": [],
   "source": [
    "def myfun(message):\n",
    "    print (message)"
   ]
  },
  {
   "cell_type": "code",
   "execution_count": null,
   "metadata": {
    "colab": {
     "base_uri": "https://localhost:8080/"
    },
    "id": "SKoTBMwF2Bye",
    "outputId": "428366ce-bea6-4794-9c37-81b0feb320e6",
    "slideshow": {
     "slide_type": "-"
    }
   },
   "outputs": [
    {
     "name": "stdout",
     "output_type": "stream",
     "text": [
      "Something\n"
     ]
    }
   ],
   "source": [
    "def do(f, arg):\n",
    "    f(arg)\n",
    "    \n",
    "do(myfun, \"Something\")"
   ]
  },
  {
   "cell_type": "code",
   "execution_count": null,
   "metadata": {
    "colab": {
     "base_uri": "https://localhost:8080/"
    },
    "id": "0HnlK9Bu2Byh",
    "outputId": "a503ffd2-cc0c-4e77-969c-8f6a93c1f560",
    "slideshow": {
     "slide_type": "-"
    }
   },
   "outputs": [
    {
     "name": "stdout",
     "output_type": "stream",
     "text": [
      "Hello!\n"
     ]
    }
   ],
   "source": [
    "x = myfun # simple variable assignment\n",
    "x(\"Hello!\")"
   ]
  },
  {
   "cell_type": "markdown",
   "metadata": {
    "id": "joAC-EnK2Byj",
    "slideshow": {
     "slide_type": "slide"
    }
   },
   "source": [
    "Function Documentation\n",
    "--------------\n",
    "\n",
    "Recall using help(math.hypot) to get help on understanding how to use hypot() function. Can we design a function myfun() and ensure that help(myfun) also gives a nice \"help\" output?"
   ]
  },
  {
   "cell_type": "code",
   "execution_count": null,
   "metadata": {
    "id": "o3tOPziO2Byl",
    "slideshow": {
     "slide_type": "-"
    }
   },
   "outputs": [],
   "source": [
    "def myfun(a,b):\n",
    "    \"\"\"\n",
    "    Input: Two Objects\n",
    "    Output: Sum of the two input objects.\n",
    "    \"\"\"\n",
    "    return a+b"
   ]
  },
  {
   "cell_type": "code",
   "execution_count": null,
   "metadata": {
    "colab": {
     "base_uri": "https://localhost:8080/"
    },
    "id": "4V4IgNC62Bym",
    "outputId": "492032b6-9102-42ab-d55b-293d9a19300a",
    "slideshow": {
     "slide_type": "-"
    }
   },
   "outputs": [
    {
     "name": "stdout",
     "output_type": "stream",
     "text": [
      "Help on function myfun in module __main__:\n",
      "\n",
      "myfun(a, b)\n",
      "    Input: Two Objects\n",
      "    Output: Sum of the two input objects.\n",
      "\n"
     ]
    }
   ],
   "source": [
    "help(myfun)"
   ]
  },
  {
   "cell_type": "markdown",
   "metadata": {
    "id": "BPKkQW272Byn",
    "slideshow": {
     "slide_type": "-"
    }
   },
   "source": [
    "When designing functions of your own, it is always good to document what the function does so that you and others can use it in the future with ease."
   ]
  },
  {
   "cell_type": "markdown",
   "metadata": {
    "slideshow": {
     "slide_type": "slide"
    }
   },
   "source": [
    "Builtin functions in the builtin module\n",
    "====\n",
    "The Python interpreter has a number of functions and types built into it that are always available. They are listed here in alphabetical order.\n",
    "\n",
    "See: https://docs.python.org/3/library/functions.html#built-in-funcs\n",
    "\n",
    "<IMG SRC=\"pythonbuiltins.png\" style=\"width:450px\">"
   ]
  },
  {
   "cell_type": "markdown",
   "metadata": {
    "id": "bjuhbTTW2Byp",
    "slideshow": {
     "slide_type": "slide"
    }
   },
   "source": [
    "Modules\n",
    "=======\n",
    "\n",
    "Modules can be considered as \"namespaces\" which have a collection of objects which which you can use when needed. For example, math modules has 42 objects including two numbers \"e\" and \"pi\" and 40 functions.\n",
    "\n",
    "Every program you execute directly is treated as a module with a special name \\_\\_main\\_\\_.\n",
    "\n",
    "So, all the variables you define, the functions you create are said to live in the namespace of \\_\\_main\\_\\_.\n",
    "\n",
    "When you say the following, you are making the namespace of __math__ available to you.\n",
    "\n",
    "    import math\n",
    "    \n",
    "To then access something inside __math__, you say\n",
    "\n",
    "    math.object"
   ]
  },
  {
   "cell_type": "markdown",
   "metadata": {
    "id": "cVsqVtRR2Byr",
    "slideshow": {
     "slide_type": "slide"
    }
   },
   "source": [
    "So what happens when you \"import\"\n",
    "---------------\n",
    "\n",
    "* Python interpreter searches for math.py in the current directory or the installation directory (in that order) and compiles math.py, if not already compiled.\n",
    "* Next, it creates a handle of the same name i.e. \"math\" which can be used to access the objects living inside math."
   ]
  },
  {
   "cell_type": "code",
   "execution_count": null,
   "metadata": {
    "colab": {
     "base_uri": "https://localhost:8080/"
    },
    "id": "469rCTdT2Bys",
    "outputId": "9a89a40d-dd44-4773-fd5d-57faec50bc3a",
    "slideshow": {
     "slide_type": "-"
    }
   },
   "outputs": [
    {
     "data": {
      "text/plain": [
       "module"
      ]
     },
     "execution_count": 36,
     "metadata": {},
     "output_type": "execute_result"
    }
   ],
   "source": [
    "import math\n",
    "type(math)"
   ]
  },
  {
   "cell_type": "markdown",
   "metadata": {
    "id": "EFGx7sgi2Byu",
    "slideshow": {
     "slide_type": "slide"
    }
   },
   "source": [
    "Other way to \"import\"\n",
    "---------------------\n",
    "\n",
    "In the above example, you are accessing objects inside __math__ through the module object that Python created. It is also possible to make these objects become a part of the current namespace.\n",
    "\n",
    "    from math import *"
   ]
  },
  {
   "cell_type": "code",
   "execution_count": null,
   "metadata": {
    "colab": {
     "base_uri": "https://localhost:8080/"
    },
    "id": "6QJsz-tZ2Byv",
    "outputId": "702e6785-88ec-4f7b-f6e5-6211e522b74b",
    "slideshow": {
     "slide_type": "-"
    }
   },
   "outputs": [
    {
     "data": {
      "text/plain": [
       "0.7853981633974483"
      ]
     },
     "execution_count": 37,
     "metadata": {},
     "output_type": "execute_result"
    }
   ],
   "source": [
    "from math import *\n",
    "radians(45) # no math.radians required."
   ]
  },
  {
   "cell_type": "markdown",
   "metadata": {
    "id": "ZHxFx0Pj2Byx",
    "slideshow": {
     "slide_type": "-"
    }
   },
   "source": [
    "__WARNING: The above method is extremely dangerous! If your program and the module have common objects, the above statement with cause a lot of mix-up! This is the single most stupid thing you can do as a Python programmer, so please don't do it.__"
   ]
  },
  {
   "cell_type": "markdown",
   "metadata": {
    "id": "7Sbu2sdI2Byy",
    "slideshow": {
     "slide_type": "slide"
    }
   },
   "source": [
    "A Middle Ground\n",
    "-------------\n",
    "\n",
    "If there is an object you specifically use frequently and would like to make it a part of your main namespace, then,\n",
    "\n",
    "    from ModuleName import Object\n",
    "    \n",
    "**Strictly speaking even this is not at all advisable. Please avoid, if possible.**"
   ]
  },
  {
   "cell_type": "code",
   "execution_count": null,
   "metadata": {
    "colab": {
     "base_uri": "https://localhost:8080/"
    },
    "id": "BWY2iJ7Q2Byz",
    "outputId": "0098e508-1b48-416e-c799-35e1c0dcf56e",
    "slideshow": {
     "slide_type": "-"
    }
   },
   "outputs": [
    {
     "name": "stdout",
     "output_type": "stream",
     "text": [
      "0.9995258306054791\n"
     ]
    }
   ],
   "source": [
    "from math import sin\n",
    "print (sin(1.54))"
   ]
  },
  {
   "cell_type": "markdown",
   "metadata": {
    "id": "UDKCWqTz2By0",
    "slideshow": {
     "slide_type": "-"
    }
   },
   "source": [
    "__NOTE:__ If you import the same module again in the same program, Python does not reload. Use reload(ModuleName) for reloading."
   ]
  },
  {
   "cell_type": "markdown",
   "metadata": {
    "id": "ET1fHpkS2By1",
    "slideshow": {
     "slide_type": "slide"
    }
   },
   "source": [
    "Aliases for a Module\n",
    "----------\n",
    "\n",
    "If you have decided to access a module's objects from its own namespace, you can choose to alias the module with a name. This is fine. Use aliases that others use.\n",
    "\n",
    "    import numpy as np\n",
    "    np.array(...)\n",
    "    \n",
    "Try to use standard abbreviations - e.g. np for numpy"
   ]
  },
  {
   "cell_type": "markdown",
   "metadata": {
    "id": "hLi2ihHk2By3",
    "slideshow": {
     "slide_type": "-"
    }
   },
   "source": [
    "Another example, \n",
    "    \n",
    "    import matplotlib.pyplot as plt\n",
    "    plt.plot(x,y)"
   ]
  }
 ],
 "metadata": {
  "celltoolbar": "Slideshow",
  "colab": {
   "name": "advancedpython.ipynb",
   "provenance": []
  },
  "kernelspec": {
   "display_name": "Python 3 (ipykernel)",
   "language": "python",
   "name": "python3"
  },
  "language_info": {
   "codemirror_mode": {
    "name": "ipython",
    "version": 3
   },
   "file_extension": ".py",
   "mimetype": "text/x-python",
   "name": "python",
   "nbconvert_exporter": "python",
   "pygments_lexer": "ipython3",
   "version": "3.12.3"
  }
 },
 "nbformat": 4,
 "nbformat_minor": 1
}
