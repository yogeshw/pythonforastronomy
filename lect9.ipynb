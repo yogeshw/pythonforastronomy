{
 "cells": [
  {
   "cell_type": "markdown",
   "metadata": {
    "id": "adjustable-greece",
    "slideshow": {
     "slide_type": "slide"
    }
   },
   "source": [
    "Astronomical data analysis using Python\n",
    "=======\n",
    "\n",
    "Lecture 9\n",
    "-----------------\n",
    "\n"
   ]
  },
  {
   "cell_type": "markdown",
   "metadata": {
    "slideshow": {
     "slide_type": "slide"
    },
    "vscode": {
     "languageId": "markdown"
    }
   },
   "source": [
    "Learning Outcomes\n",
    "----------------\n",
    "\n",
    "After this lecture, you should be able to:\n",
    "\n",
    "1. Work with Astronomical Tables using Astropy\n",
    "    - Sort and manipulate table data\n",
    "    - Group table entries\n",
    "    - Write tables in various formats (FITS, ASCII, etc.)\n",
    "\n",
    "2. Handle Coordinate Systems using SkyCoord\n",
    "    - Work with celestial coordinates (RA, Dec)\n",
    "    - Perform coordinate transformations\n",
    "    - Calculate separations and distances\n",
    "\n",
    "3. Process FITS Files\n",
    "    - Read and write FITS files\n",
    "    - Access header information\n",
    "    - Manipulate image data\n",
    "    - Understand axis conventions\n",
    "\n",
    "4. Work with World Coordinate Systems (WCS)\n",
    "    - Convert between pixel and sky coordinates\n",
    "    - Handle coordinate transformations\n",
    "    - Calculate image footprints\n",
    "\n",
    "5. Use Common Astronomical Tools\n",
    "    - Understand the roles of TOPCAT, Aladin, and DS9\n",
    "    - Work with Virtual Observatory protocols"
   ]
  },
  {
   "cell_type": "markdown",
   "metadata": {},
   "source": [
    "Table\n",
    "====="
   ]
  },
  {
   "cell_type": "code",
   "execution_count": 1,
   "metadata": {
    "id": "generic-blogger",
    "outputId": "c19862bf-a3f9-4844-f6cb-e6b80d1ded17",
    "slideshow": {
     "slide_type": "-"
    }
   },
   "outputs": [
    {
     "name": "stdout",
     "output_type": "stream",
     "text": [
      "name  obs_date  mag_b mag_v\n",
      "---- ---------- ----- -----\n",
      " M31 2012-01-02  17.0  17.5\n",
      " M31 2012-01-02  17.1  17.4\n",
      "M101 2012-01-02  15.1  13.5\n",
      " M82 2012-02-14  16.2  14.5\n",
      " M31 2012-02-14  16.9  17.3\n",
      " M82 2012-02-14  15.2  15.5\n",
      "M101 2012-02-14  15.0  13.6\n",
      " M82 2012-03-26  15.7  16.5\n",
      "M101 2012-03-26  15.1  13.5\n",
      "M101 2012-03-26  14.8  14.3\n"
     ]
    }
   ],
   "source": [
    "from astropy.table import Table\n",
    "demo_table = Table.read(\"demo.txt\", format=\"ascii\")\n",
    "print (demo_table)"
   ]
  },
  {
   "cell_type": "code",
   "execution_count": 2,
   "metadata": {
    "id": "thrown-shock",
    "slideshow": {
     "slide_type": "slide"
    }
   },
   "outputs": [],
   "source": [
    "demo_table.sort([\"name\", \"mag_b\"]) # sort by name, then magb"
   ]
  },
  {
   "cell_type": "code",
   "execution_count": 3,
   "metadata": {
    "id": "through-wheel",
    "outputId": "b334c9e2-74ed-456e-e19b-5adca1b316c9",
    "slideshow": {
     "slide_type": "-"
    }
   },
   "outputs": [
    {
     "name": "stdout",
     "output_type": "stream",
     "text": [
      "name  obs_date  mag_b mag_v\n",
      "---- ---------- ----- -----\n",
      "M101 2012-03-26  14.8  14.3\n",
      "M101 2012-02-14  15.0  13.6\n",
      "M101 2012-01-02  15.1  13.5\n",
      "M101 2012-03-26  15.1  13.5\n",
      " M31 2012-02-14  16.9  17.3\n",
      " M31 2012-01-02  17.0  17.5\n",
      " M31 2012-01-02  17.1  17.4\n",
      " M82 2012-02-14  15.2  15.5\n",
      " M82 2012-03-26  15.7  16.5\n",
      " M82 2012-02-14  16.2  14.5\n"
     ]
    }
   ],
   "source": [
    "print (demo_table)"
   ]
  },
  {
   "cell_type": "code",
   "execution_count": 4,
   "metadata": {
    "id": "compatible-massage",
    "outputId": "9dc6ee11-0770-470b-8c69-1a713542e64b",
    "scrolled": true,
    "slideshow": {
     "slide_type": "slide"
    }
   },
   "outputs": [
    {
     "name": "stdout",
     "output_type": "stream",
     "text": [
      "name  obs_date  mag_b mag_v\n",
      "---- ---------- ----- -----\n",
      " M82 2012-02-14  16.2  14.5\n",
      " M82 2012-03-26  15.7  16.5\n",
      " M82 2012-02-14  15.2  15.5\n",
      " M31 2012-01-02  17.1  17.4\n",
      " M31 2012-01-02  17.0  17.5\n",
      " M31 2012-02-14  16.9  17.3\n",
      "M101 2012-03-26  15.1  13.5\n",
      "M101 2012-01-02  15.1  13.5\n",
      "M101 2012-02-14  15.0  13.6\n",
      "M101 2012-03-26  14.8  14.3\n"
     ]
    }
   ],
   "source": [
    "demo_table.reverse() # Reverse existing table. Descending order!\n",
    "print (demo_table)"
   ]
  },
  {
   "cell_type": "markdown",
   "metadata": {
    "slideshow": {
     "slide_type": "slide"
    }
   },
   "source": [
    "# Writing a table"
   ]
  },
  {
   "cell_type": "code",
   "execution_count": 5,
   "metadata": {
    "slideshow": {
     "slide_type": "-"
    }
   },
   "outputs": [],
   "source": [
    "demo_table.write('reversesortedtable.fits', format='fits', overwrite=True)  "
   ]
  },
  {
   "cell_type": "markdown",
   "metadata": {
    "slideshow": {
     "slide_type": "-"
    }
   },
   "source": [
    "Many output formats are available: ascii (many variants like csv, with and without headers), hdf5, votable, fits, latex etc. All these formats can be read from as well. "
   ]
  },
  {
   "cell_type": "markdown",
   "metadata": {
    "id": "public-reliance",
    "slideshow": {
     "slide_type": "slide"
    }
   },
   "source": [
    "Table Groups\n",
    "----\n",
    "\n",
    "* It is possible to organize the table into groups. \n",
    "* For example, all entries for object M101 can be selected as a single group.\n",
    "* One can access individual groups for various operations.\n",
    "* Also supported \"group-wise reductions\""
   ]
  },
  {
   "cell_type": "code",
   "execution_count": 6,
   "metadata": {
    "id": "cheap-prayer",
    "slideshow": {
     "slide_type": "slide"
    }
   },
   "outputs": [],
   "source": [
    "demo_table = Table.read(\"demo.txt\", format=\"ascii\")\n",
    "grouped_table = demo_table.group_by(\"name\") "
   ]
  },
  {
   "cell_type": "code",
   "execution_count": 7,
   "metadata": {
    "id": "complex-hospital",
    "outputId": "699060f8-7d5d-4c1d-afd7-96afc486412b",
    "slideshow": {
     "slide_type": "-"
    }
   },
   "outputs": [
    {
     "name": "stdout",
     "output_type": "stream",
     "text": [
      "name  obs_date  mag_b mag_v\n",
      "---- ---------- ----- -----\n",
      "M101 2012-01-02  15.1  13.5\n",
      "M101 2012-02-14  15.0  13.6\n",
      "M101 2012-03-26  15.1  13.5\n",
      "M101 2012-03-26  14.8  14.3\n"
     ]
    }
   ],
   "source": [
    "# To access groups.\n",
    "print (grouped_table.groups[0]) # first group"
   ]
  },
  {
   "cell_type": "markdown",
   "metadata": {
    "id": "particular-evaluation",
    "slideshow": {
     "slide_type": "slide"
    }
   },
   "source": [
    "Group-wise Reductions (e.g. group-wise mean)\n",
    "----"
   ]
  },
  {
   "cell_type": "code",
   "execution_count": 8,
   "metadata": {
    "id": "amber-density",
    "outputId": "f2d09910-e55e-4904-c4b1-f2b213efc027",
    "slideshow": {
     "slide_type": "-"
    }
   },
   "outputs": [
    {
     "name": "stderr",
     "output_type": "stream",
     "text": [
      "WARNING: Cannot aggregate column 'obs_date' with type '<U10' [astropy.table.groups]\n"
     ]
    },
    {
     "data": {
      "text/html": [
       "<div><i>Table length=3</i>\n",
       "<table id=\"table140460741438816\" class=\"table-striped table-bordered table-condensed\">\n",
       "<thead><tr><th>name</th><th>mag_b</th><th>mag_v</th></tr></thead>\n",
       "<thead><tr><th>str4</th><th>float64</th><th>float64</th></tr></thead>\n",
       "<tr><td>M101</td><td>15.000000000000002</td><td>13.725000000000001</td></tr>\n",
       "<tr><td>M31</td><td>17.0</td><td>17.400000000000002</td></tr>\n",
       "<tr><td>M82</td><td>15.699999999999998</td><td>15.5</td></tr>\n",
       "</table></div>"
      ],
      "text/plain": [
       "<Table length=3>\n",
       "name       mag_b              mag_v       \n",
       "str4      float64            float64      \n",
       "---- ------------------ ------------------\n",
       "M101 15.000000000000002 13.725000000000001\n",
       " M31               17.0 17.400000000000002\n",
       " M82 15.699999999999998               15.5"
      ]
     },
     "execution_count": 8,
     "metadata": {},
     "output_type": "execute_result"
    }
   ],
   "source": [
    "import numpy\n",
    "grouped_table.groups.aggregate(numpy.mean)"
   ]
  },
  {
   "cell_type": "markdown",
   "metadata": {
    "id": "attended-korean",
    "slideshow": {
     "slide_type": "slide"
    }
   },
   "source": [
    "Filters\n",
    "----\n",
    "\n",
    "* Define a function <code> some_filter( TableObject, KeyColumns ) </code>.\n",
    "* The function returns `True` or `False`.\n",
    "* Then use the function to remove rows which satisfy some condition.\n",
    "\n",
    "The following will select all table groups with only positive values in the non- key columns:\n",
    "\n",
    "<code>\n",
    "def all_positive(table, key_colnames):\n",
    "    colnames = [name for name in table.colnames if name not in key_colnames]\n",
    "    for colname in colnames:\n",
    "         if np.any(table[colname] <= 0):\n",
    "             return False\n",
    "         return True\n",
    "t_positive = tg.groups.filter(all_positive)`\n",
    "</code>"
   ]
  },
  {
   "cell_type": "markdown",
   "metadata": {
    "id": "parliamentary-mortality",
    "slideshow": {
     "slide_type": "slide"
    }
   },
   "source": [
    "Stuff For You To Explore On Your Own\n",
    "====\n",
    "\n",
    "Stacks - vstack, hstack\n",
    "---\n",
    "\n",
    "\"joins\"\n",
    "---\n",
    "\n",
    "https://docs.astropy.org/en/stable/table/operations.html\n",
    "\n"
   ]
  },
  {
   "cell_type": "markdown",
   "metadata": {
    "slideshow": {
     "slide_type": "slide"
    }
   },
   "source": [
    "# Useful generic tools for handling astronomical data\n",
    "\n",
    "* **Topcat**: Interactive viewer and editor for tabular data. Can handle data in many formats, and includes tools for making many different kinds of plots.\n",
    "* **Aladin**: interactive sky atlas allowing the user to visualize digitized astronomical images or full surveys, \n",
    "superimpose entries from astronomical catalogues\n",
    "* **DS9**: is an alternative to Aladin. It provides many of the features that Aladin has in a fast, lightweight interface.\n",
    "\n",
    "All of these tools are tightly integrated with each other, all follow **Virtual Obervatory protocols** and can exchange data with each other. Even if you are going to process all your data through a Python program, it is important that you become proficient in the use of these tools, so that you can easily do quality checks on your analysis."
   ]
  },
  {
   "cell_type": "markdown",
   "metadata": {
    "slideshow": {
     "slide_type": "slide"
    }
   },
   "source": [
    "# SkyCoord - generic object for coordinates"
   ]
  },
  {
   "cell_type": "code",
   "execution_count": 9,
   "metadata": {},
   "outputs": [
    {
     "name": "stdout",
     "output_type": "stream",
     "text": [
      "<SkyCoord (ICRS): (ra, dec) in deg\n",
      "    (10.68458, 41.26917)>\n",
      "10d41m04.488s\n",
      "0.7123053333333335\n",
      "hms_tuple(h=0.0, m=42.0, s=44.299200000000525)\n",
      "41.26917\n",
      "0.7202828960652683\n",
      "<SkyCoord (Galactic): (l, b) in deg\n",
      "    (121.17424181, -21.57288557)>\n",
      "<SkyCoord (FK4: equinox=B1950.000, obstime=B1950.000): (ra, dec) in deg\n",
      "    (10.00026791, 40.99534531)>\n"
     ]
    }
   ],
   "source": [
    "from astropy.coordinates import SkyCoord\n",
    "import astropy.units as u\n",
    "c = SkyCoord(ra=10.68458*u.degree, dec=41.26917*u.degree)\n",
    "print (c)\n",
    "print (c.ra)\n",
    "print (c.ra.hour)\n",
    "print (c.ra.hms)\n",
    "print (c.dec.degree)\n",
    "print (c.dec.radian)\n",
    "print (c.galactic)\n",
    "print (c.fk4)"
   ]
  },
  {
   "cell_type": "markdown",
   "metadata": {
    "slideshow": {
     "slide_type": "slide"
    }
   },
   "source": [
    "# 3D and angular separation"
   ]
  },
  {
   "cell_type": "code",
   "execution_count": 10,
   "metadata": {
    "slideshow": {
     "slide_type": "-"
    }
   },
   "outputs": [
    {
     "name": "stdout",
     "output_type": "stream",
     "text": [
      "1.5228602415117987 pc\n",
      "1d24m16.34302012s\n"
     ]
    }
   ],
   "source": [
    "c1 = SkyCoord(ra=10*u.degree, dec=9*u.degree, distance=10*u.pc, frame='icrs')\n",
    "c2 = SkyCoord(ra=11*u.degree, dec=10*u.degree, distance=11.5*u.pc, frame='icrs')\n",
    "print (c1.separation_3d(c2))\n",
    "print (c1.separation(c2))"
   ]
  },
  {
   "cell_type": "markdown",
   "metadata": {
    "slideshow": {
     "slide_type": "slide"
    }
   },
   "source": [
    "# Radial velocity correction"
   ]
  },
  {
   "cell_type": "code",
   "execution_count": 11,
   "metadata": {
    "slideshow": {
     "slide_type": "-"
    }
   },
   "outputs": [
    {
     "data": {
      "text/latex": [
       "$-22.332862 \\; \\mathrm{\\frac{km}{s}}$"
      ],
      "text/plain": [
       "<Quantity -22.33286169 km / s>"
      ]
     },
     "execution_count": 11,
     "metadata": {},
     "output_type": "execute_result"
    }
   ],
   "source": [
    "from astropy.coordinates import EarthLocation\n",
    "from astropy.time import Time\n",
    "obstime = Time('2017-2-14')\n",
    "target = SkyCoord.from_name('M31')  # needs internet connection\n",
    "pune = EarthLocation.of_address('Pune, India')  # needs internet connection\n",
    "target.radial_velocity_correction(obstime=obstime, location=pune).to('km/s')  \n",
    "# apply correction to get heliocentric radial velocity accurate to about 3 m/s"
   ]
  },
  {
   "cell_type": "markdown",
   "metadata": {
    "id": "upper-spirit",
    "slideshow": {
     "slide_type": "slide"
    }
   },
   "source": [
    "FITS Files in Python\n",
    "=====================\n",
    "\n",
    "Again, if this talk was being given few years ago, we would cover \n",
    "\n",
    "PyFITS\n",
    "------\n",
    "\n",
    "But now, \n",
    "\n",
    "astropy.io.fits\n",
    "---------------"
   ]
  },
  {
   "cell_type": "markdown",
   "metadata": {
    "id": "strong-estonia",
    "slideshow": {
     "slide_type": "slide"
    }
   },
   "source": [
    "First step, import the (sub) module.\n",
    "-----------------"
   ]
  },
  {
   "cell_type": "code",
   "execution_count": 12,
   "metadata": {
    "id": "studied-emperor",
    "slideshow": {
     "slide_type": "-"
    }
   },
   "outputs": [],
   "source": [
    "from astropy.io import fits"
   ]
  },
  {
   "cell_type": "markdown",
   "metadata": {
    "id": "tired-document",
    "slideshow": {
     "slide_type": "-"
    }
   },
   "source": [
    "If you are using old code that uses PyFits you can say, \n",
    "\n",
    "    import astropy.io.fits as pyfits\n",
    "\n",
    "or whatever alias you use for PyFITS and most of PyFITS based code should work fine."
   ]
  },
  {
   "cell_type": "markdown",
   "metadata": {
    "id": "center-drain",
    "slideshow": {
     "slide_type": "slide"
    }
   },
   "source": [
    "Next step, open a FITS file. The method used for this creates a hdulist object. HDU = Header Data Unit"
   ]
  },
  {
   "cell_type": "code",
   "execution_count": 13,
   "metadata": {
    "id": "hawaiian-destiny",
    "slideshow": {
     "slide_type": "-"
    }
   },
   "outputs": [],
   "source": [
    "hdulist = fits.open(\"example.fits\") # example.fits is a sample image on my computer."
   ]
  },
  {
   "cell_type": "markdown",
   "metadata": {
    "id": "final-party",
    "slideshow": {
     "slide_type": "slide"
    }
   },
   "source": [
    "Next, check up some basic information about the FITS file."
   ]
  },
  {
   "cell_type": "code",
   "execution_count": 14,
   "metadata": {
    "id": "eight-butter",
    "outputId": "d1b4cfdc-cddd-4ca4-f5af-1c77c0065cf6",
    "slideshow": {
     "slide_type": "-"
    }
   },
   "outputs": [
    {
     "name": "stdout",
     "output_type": "stream",
     "text": [
      "Filename: example.fits\n",
      "No.    Name      Ver    Type      Cards   Dimensions   Format\n",
      "  0  PRIMARY       1 PrimaryHDU      71   (512, 512)   int16   \n"
     ]
    }
   ],
   "source": [
    "hdulist.info()"
   ]
  },
  {
   "cell_type": "markdown",
   "metadata": {
    "id": "subsequent-orchestra",
    "slideshow": {
     "slide_type": "-"
    }
   },
   "source": [
    "As you can see, this is a single extension FITS file."
   ]
  },
  {
   "cell_type": "markdown",
   "metadata": {
    "id": "enormous-museum",
    "slideshow": {
     "slide_type": "slide"
    }
   },
   "source": [
    "Accessing the FITS header\n",
    "-------------------"
   ]
  },
  {
   "cell_type": "code",
   "execution_count": 15,
   "metadata": {
    "id": "acoustic-bishop",
    "outputId": "494dfd35-e670-421b-88a1-0ff7ffee8fbc",
    "slideshow": {
     "slide_type": "-"
    }
   },
   "outputs": [
    {
     "data": {
      "text/plain": [
       "SIMPLE  =                    T / Fits standard                                  \n",
       "BITPIX  =                   16 / Bits per pixel                                 \n",
       "NAXIS   =                    2 / Number of axes                                 \n",
       "NAXIS1  =                  512 / Axis length                                    \n",
       "NAXIS2  =                  512 / Axis length                                    \n",
       "EXTEND  =                    F / File may contain extensions                    \n",
       "ORIGIN  = 'NOAO-IRAF FITS Image Kernel July 2003' / FITS file originator        \n",
       "DATE    = '2017-02-17T04:36:31' / Date FITS file was generated                  \n",
       "IRAF-TLM= '2017-02-17T04:36:31' / Time of last modification                     \n",
       "OBJECT  = 'm51  B  600s'       / Name of the object observed                    \n",
       "IRAF-MAX=           1.993600E4  /  DATA MAX                                     \n",
       "IRAF-MIN=          -1.000000E0  /  DATA MIN                                     \n",
       "CCDPICNO=                   53  /  ORIGINAL CCD PICTURE NUMBER                  \n",
       "ITIME   =                  600  /  REQUESTED INTEGRATION TIME (SECS)            \n",
       "TTIME   =                  600  /  TOTAL ELAPSED TIME (SECS)                    \n",
       "OTIME   =                  600  /  ACTUAL INTEGRATION TIME (SECS)               \n",
       "DATA-TYP= 'OBJECT (0)'          /  OBJECT,DARK,BIAS,ETC.                        \n",
       "DATE-OBS= '05/04/87'            /  DATE DD/MM/YY                                \n",
       "RA      = '13:29:24.00'         /  RIGHT ASCENSION                              \n",
       "DEC     = '47:15:34.00'         /  DECLINATION                                  \n",
       "EPOCH   =                 0.00  /  EPOCH OF RA AND DEC                          \n",
       "ZD      = '22:14:00.00'         /  ZENITH DISTANCE                              \n",
       "UT      = ' 9:27:27.00'         /  UNIVERSAL TIME                               \n",
       "ST      = '14:53:42.00'         /  SIDEREAL TIME                                \n",
       "CAM-ID  =                    1  /  CAMERA HEAD ID                               \n",
       "CAM-TEMP=              -106.22  /  CAMERA TEMPERATURE, DEG C                    \n",
       "DEW-TEMP=              -180.95  /  DEWAR TEMPRATURE, DEG C                      \n",
       "F1POS   =                    2  /  FILTER BOLT I POSITION                       \n",
       "F2POS   =                    0  /  FILTER BOLT II POSITION                      \n",
       "TVFILT  =                    0  /  TV FILTER                                    \n",
       "CMP-LAMP=                    0  /  COMPARISON LAMP                              \n",
       "TILT-POS=                    0  /  TILT POSITION                                \n",
       "BIAS-PIX=                    0  /                                               \n",
       "BI-FLAG =                    0  /  BIAS SUBTRACT FLAG                           \n",
       "BP-FLAG =                    0  /  BAD PIXEL FLAG                               \n",
       "CR-FLAG =                    0  /  BAD PIXEL FLAG                               \n",
       "DK-FLAG =                    0  /  DARK SUBTRACT FLAG                           \n",
       "FR-FLAG =                    0  /  FRINGE FLAG                                  \n",
       "FR-SCALE=                 0.00  /  FRINGE SCALING PARAMETER                     \n",
       "TRIM    = 'Apr 22 14:11 Trim image section is [3:510,3:510]'                    \n",
       "BT-FLAG = 'Apr 22 14:11 Overscan correction strip is [515:544,3:510]'           \n",
       "FF-FLAG = 'Apr 22 14:11 Flat field image is Flat1.imh with scale=183.9447'      \n",
       "CCDPROC = 'Apr 22 14:11 CCD processing done'                                    \n",
       "AIRMASS =    1.08015632629395   / AIRMASS                                       \n",
       "HISTORY 'KPNO-IRAF'                                                             \n",
       "HISTORY '24-04-87'                                                              \n",
       "HISTORY 'KPNO-IRAF'           /                                                 \n",
       "HISTORY '08-04-92'            /                                                 \n",
       "                                                                                \n",
       "                                                                                \n",
       "                                                                                \n",
       "                                                                                \n",
       "                                                                                \n",
       "                                                                                \n",
       "                                                                                \n",
       "                                                                                \n",
       "                                                                                \n",
       "                                                                                \n",
       "                                                                                \n",
       "                                                                                \n",
       "                                                                                \n",
       "                                                                                \n",
       "                                                                                \n",
       "                                                                                \n",
       "                                                                                \n",
       "                                                                                \n",
       "                                                                                \n",
       "                                                                                \n",
       "                                                                                \n",
       "                                                                                \n",
       "                                                                                "
      ]
     },
     "execution_count": 15,
     "metadata": {},
     "output_type": "execute_result"
    }
   ],
   "source": [
    "hdulist[0].header"
   ]
  },
  {
   "cell_type": "markdown",
   "metadata": {
    "id": "mobile-sustainability",
    "slideshow": {
     "slide_type": "slide"
    }
   },
   "source": [
    "Specific stuff within header.\n",
    "-------------------------"
   ]
  },
  {
   "cell_type": "code",
   "execution_count": 16,
   "metadata": {
    "id": "valuable-victoria",
    "outputId": "7043279c-37d2-4d85-ff5e-6417096957e7",
    "slideshow": {
     "slide_type": "-"
    }
   },
   "outputs": [
    {
     "data": {
      "text/plain": [
       "512"
      ]
     },
     "execution_count": 16,
     "metadata": {},
     "output_type": "execute_result"
    }
   ],
   "source": [
    "hdulist[0].header[\"NAXIS1\"] # by header keyword"
   ]
  },
  {
   "cell_type": "code",
   "execution_count": 17,
   "metadata": {
    "id": "individual-consent",
    "outputId": "04730e9a-5471-4523-8486-5f21b9cb2b98",
    "slideshow": {
     "slide_type": "-"
    }
   },
   "outputs": [
    {
     "data": {
      "text/plain": [
       "16"
      ]
     },
     "execution_count": 17,
     "metadata": {},
     "output_type": "execute_result"
    }
   ],
   "source": [
    "hdulist[0].header[1] # or by header number."
   ]
  },
  {
   "cell_type": "code",
   "execution_count": 18,
   "metadata": {
    "id": "sapphire-workplace",
    "slideshow": {
     "slide_type": "-"
    }
   },
   "outputs": [],
   "source": [
    "all_keys = hdulist[0].header.keys() # get a list of all keys."
   ]
  },
  {
   "cell_type": "code",
   "execution_count": 19,
   "metadata": {
    "id": "twenty-poster",
    "slideshow": {
     "slide_type": "-"
    }
   },
   "outputs": [],
   "source": [
    "all_values = hdulist[0].header.values()"
   ]
  },
  {
   "cell_type": "markdown",
   "metadata": {
    "id": "relative-retreat",
    "slideshow": {
     "slide_type": "-"
    }
   },
   "source": [
    "You can also change the header values as if it were a dictionary."
   ]
  },
  {
   "cell_type": "markdown",
   "metadata": {
    "id": "vietnamese-dispatch",
    "slideshow": {
     "slide_type": "slide"
    }
   },
   "source": [
    "Now, the data\n",
    "---------------\n",
    "\n"
   ]
  },
  {
   "cell_type": "code",
   "execution_count": 20,
   "metadata": {
    "id": "rural-stevens",
    "outputId": "bac529fb-6c7f-48cb-85bd-c89afeb2b808",
    "slideshow": {
     "slide_type": "-"
    }
   },
   "outputs": [],
   "source": [
    "import matplotlib.pyplot as plt\n",
    "import numpy as np"
   ]
  },
  {
   "cell_type": "code",
   "execution_count": 21,
   "metadata": {
    "id": "identified-michael",
    "outputId": "72b21a1c-1d24-415c-e58a-e62f3b013905",
    "scrolled": true
   },
   "outputs": [
    {
     "data": {
      "text/plain": [
       "<matplotlib.colorbar.Colorbar at 0x7fbf9009d2b0>"
      ]
     },
     "execution_count": 21,
     "metadata": {},
     "output_type": "execute_result"
    },
    {
     "data": {
      "image/png": "[encoded data removed]",
      "text/plain": [
       "<Figure size 432x288 with 2 Axes>"
      ]
     },
     "metadata": {
      "needs_background": "light"
     },
     "output_type": "display_data"
    }
   ],
   "source": [
    "plt.set_cmap('inferno_r')\n",
    "plt.imshow( np.log10(hdulist[0].data+abs(np.min(hdulist[0].data))+0.01),origin='lower')\n",
    "# Flat is better than nested - Zen of Python. We violated that and made the code difficult to read.\n",
    "# Don't do this!\n",
    "plt.colorbar()"
   ]
  },
  {
   "cell_type": "markdown",
   "metadata": {
    "id": "incomplete-excuse",
    "slideshow": {
     "slide_type": "slide"
    }
   },
   "source": [
    "Axis Conventions\n",
    "----------------\n",
    "\n",
    "If you load a FITS image in Python, in FORTRAN/C or in ds9, the image viewer, what does I(X,Y) can give you different results!!! Also remember the zero origin versus one origin problem.\n",
    "\n",
    "There is a difference in whether the following code moves along horizontal axis first or vertical axis first.\n",
    "\n",
    "    for x in range(header[\"NAXIS1\"]):\n",
    "        for y in range(header[\"NAXIS2\"]):\n",
    "           \n",
    "            \n",
    "**This gets really complicated when you have datacubes which produce 3-D arrays. Jupyter notebook to imshow the image. Also load image in ds9. Do a bit of fiddling around and write your loops! In most cases when you work with the whole image, you don't have to worry. While writing out a fits file, the y,x are reinverted automatically**"
   ]
  },
  {
   "cell_type": "code",
   "execution_count": 22,
   "metadata": {
    "slideshow": {
     "slide_type": "slide"
    }
   },
   "outputs": [
    {
     "name": "stdout",
     "output_type": "stream",
     "text": [
      "338\n"
     ]
    }
   ],
   "source": [
    "im = hdulist[0].data\n",
    "print (im[461,68]) # this corresponds to 69,462 in the ds9 image. Display the image and verify it.\n",
    "hdulist.close()"
   ]
  },
  {
   "cell_type": "markdown",
   "metadata": {
    "id": "rational-aging",
    "slideshow": {
     "slide_type": "slide"
    }
   },
   "source": [
    "Writing FITS files\n",
    "-------------------\n",
    "\n",
    "If you have a HDUlist object, you simply say,\n",
    "\n",
    "    hdulist.writeto(\"outputfilename.fits\")\n",
    "    \n",
    "If you want to make a file from scratch, create a dictionary of headers and the data array.\n",
    "\n",
    "    primaryhdu = fits.PrimaryHDU(data, header)\n",
    "    primaryhdu.writeto(\"something.fits\")\n",
    "    \n"
   ]
  },
  {
   "cell_type": "markdown",
   "metadata": {
    "id": "occupied-executive",
    "slideshow": {
     "slide_type": "slide"
    }
   },
   "source": [
    "World Coordinate Systems\n",
    "========================\n",
    "\n",
    "Few years ago, \n",
    "\n",
    "    import pywcs \n",
    "    \n",
    "In the era of Astropy, \n",
    "\n",
    "    from astropy import wcs\n",
    "    \n",
    "Funtionally, they are more or less the same."
   ]
  },
  {
   "cell_type": "markdown",
   "metadata": {
    "id": "english-congo",
    "slideshow": {
     "slide_type": "slide"
    }
   },
   "source": [
    "Create a WCS object.\n",
    "--------------------"
   ]
  },
  {
   "cell_type": "code",
   "execution_count": 23,
   "metadata": {
    "id": "realistic-wilson",
    "outputId": "c7efbf9a-d5b8-4fc0-e271-6ef5efdd6614",
    "slideshow": {
     "slide_type": "-"
    }
   },
   "outputs": [],
   "source": [
    "from astropy import wcs\n",
    "w = wcs.WCS(\"1105_160859.fits\") # cutout image from the 1.4 GHz VLA FIRST sky survey "
   ]
  },
  {
   "cell_type": "markdown",
   "metadata": {
    "id": "willing-dragon",
    "slideshow": {
     "slide_type": "-"
    }
   },
   "source": [
    "While the above is allowed, taking into account that FITS files can have multiple extensions, you should,"
   ]
  },
  {
   "cell_type": "code",
   "execution_count": 24,
   "metadata": {
    "id": "particular-mother",
    "slideshow": {
     "slide_type": "-"
    }
   },
   "outputs": [
    {
     "name": "stdout",
     "output_type": "stream",
     "text": [
      "WCS Keywords\n",
      "\n",
      "Number of WCS axes: 2\n",
      "CTYPE : 'RA---SIN'  'DEC--SIN'  \n",
      "CRVAL : 34.3492317  -3.9826033  \n",
      "CRPIX : 18.3727199548739  18.44725428547099  \n",
      "CD1_1 CD1_2  : -0.0005555555555556  0.0  \n",
      "CD2_1 CD2_2  : 0.0  0.0005555555555556  \n",
      "NAXIS : 35  35\n"
     ]
    }
   ],
   "source": [
    "hdulist = fits.open(\"1105_160859.fits\")\n",
    "w = wcs.WCS(hdulist[0].header)\n",
    "print (w)\n",
    "hdulist.close()"
   ]
  },
  {
   "cell_type": "markdown",
   "metadata": {
    "id": "august-algeria",
    "slideshow": {
     "slide_type": "-"
    }
   },
   "source": [
    "It's the WCS object which has methods to perform any coordinate transformations."
   ]
  },
  {
   "cell_type": "code",
   "execution_count": 25,
   "metadata": {
    "id": "round-grave",
    "outputId": "f3d5eebb-d0e4-44ed-a70e-f7948c353231",
    "slideshow": {
     "slide_type": "slide"
    }
   },
   "outputs": [
    {
     "name": "stdout",
     "output_type": "stream",
     "text": [
      "<SkyCoord (ICRS): (ra, dec) in deg\n",
      "    (34.35667894, -3.97896285)>\n"
     ]
    }
   ],
   "source": [
    "from astropy.wcs import utils\n",
    "print (utils.pixel_to_skycoord(5,25,w,origin=1)) # Functional form"
   ]
  },
  {
   "cell_type": "code",
   "execution_count": 26,
   "metadata": {
    "id": "matched-header",
    "outputId": "6ad003dc-cce5-49ad-a515-7faf87fafece",
    "slideshow": {
     "slide_type": "-"
    }
   },
   "outputs": [
    {
     "data": {
      "text/plain": [
       "[array(34.35667894), array(-3.97896285)]"
      ]
     },
     "execution_count": 26,
     "metadata": {},
     "output_type": "execute_result"
    }
   ],
   "source": [
    "w.wcs_pix2world(5, 25, 1) # OOP form"
   ]
  },
  {
   "cell_type": "markdown",
   "metadata": {
    "id": "undefined-detroit",
    "slideshow": {
     "slide_type": "-"
    }
   },
   "source": [
    "* Which pixel? (5, 25) or (6, 26). It's (5,25), the third argument 1 assures you that.\n",
    "* Difference between wcs_pix2world and all_pix2world - the latter takes into account some higher order transformations / corrections into account.\n",
    "* Output? (RA, DEC) in degrees."
   ]
  },
  {
   "cell_type": "markdown",
   "metadata": {
    "id": "reduced-details",
    "slideshow": {
     "slide_type": "slide"
    }
   },
   "source": [
    "To do a reverse transformation."
   ]
  },
  {
   "cell_type": "code",
   "execution_count": 27,
   "metadata": {
    "id": "sudden-leader",
    "outputId": "01c34cb5-272b-4844-f4e2-3b0d1657c2dd",
    "slideshow": {
     "slide_type": "-"
    }
   },
   "outputs": [
    {
     "data": {
      "text/plain": [
       "[array(16.99309841), array(41.13319346)]"
      ]
     },
     "execution_count": 27,
     "metadata": {},
     "output_type": "execute_result"
    }
   ],
   "source": [
    "w.wcs_world2pix(34.35,-3.97, 1)"
   ]
  },
  {
   "cell_type": "code",
   "execution_count": 28,
   "metadata": {
    "id": "sufficient-wayne",
    "outputId": "28cbbe92-94a1-442c-b38e-4fb73db8aeb4",
    "scrolled": true,
    "slideshow": {
     "slide_type": "slide"
    }
   },
   "outputs": [
    {
     "data": {
      "text/plain": [
       "array([[34.35890669, -3.99229616],\n",
       "       [34.35890647, -3.97340727],\n",
       "       [34.33997206, -3.97340728],\n",
       "       [34.33997185, -3.99229617]])"
      ]
     },
     "execution_count": 28,
     "metadata": {},
     "output_type": "execute_result"
    }
   ],
   "source": [
    "w.calc_footprint() # The four corners of an image."
   ]
  },
  {
   "cell_type": "code",
   "execution_count": 29,
   "metadata": {
    "slideshow": {
     "slide_type": "slide"
    }
   },
   "outputs": [
    {
     "name": "stderr",
     "output_type": "stream",
     "text": [
      "WARNING: FITSFixedWarning: 'datfix' made the change 'Set MJD-OBS to 50255.000000 from DATE-OBS'. [astropy.wcs.wcs]\n"
     ]
    },
    {
     "data": {
      "image/png": "[encoded data removed]",
      "text/plain": [
       "<Figure size 432x288 with 1 Axes>"
      ]
     },
     "metadata": {
      "needs_background": "light"
     },
     "output_type": "display_data"
    }
   ],
   "source": [
    "from astropy.wcs import WCS\n",
    "from astropy.visualization import ZScaleInterval\n",
    "from astropy.coordinates import SkyCoord\n",
    "hdulist = fits.open('h_n4603_f555_mosaic.fits')\n",
    "wcs = WCS(hdulist[0].header)\n",
    "interval = ZScaleInterval()\n",
    "vmin,vmax = interval.get_limits(hdulist[0].data)\n",
    "ax = plt.subplot(111, projection=wcs)\n",
    "ax.imshow(hdulist[0].data, cmap='gray_r', vmin=vmin, vmax=vmax, interpolation=None, origin='lower')\n",
    "ax.set_xlabel(\"Right Ascension\"); ax.set_ylabel(\"Declination\")\n",
    "ax.coords.grid(color='black', alpha=0.5, linestyle='solid')\n",
    "ax.plot_coord(SkyCoord(\"12h40m54s\",\"-40d58m0s\", frame=\"fk5\"), \"ro\")\n",
    "hdulist.close()\n"
   ]
  }
 ],
 "metadata": {
  "celltoolbar": "Slideshow",
  "colab": {
   "name": "lect8.ipynb",
   "provenance": []
  },
  "kernelspec": {
   "display_name": "venv",
   "language": "python",
   "name": "python3"
  },
  "language_info": {
   "codemirror_mode": {
    "name": "ipython",
    "version": 3
   },
   "file_extension": ".py",
   "mimetype": "text/x-python",
   "name": "python",
   "nbconvert_exporter": "python",
   "pygments_lexer": "ipython3",
   "version": "3.12.3"
  }
 },
 "nbformat": 4,
 "nbformat_minor": 1
}
